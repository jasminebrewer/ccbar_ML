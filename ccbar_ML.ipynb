{
 "cells": [
  {
   "cell_type": "code",
   "execution_count": 159,
   "id": "ef28ba7b-1f00-4c8b-a6f0-2356c5b05f56",
   "metadata": {},
   "outputs": [],
   "source": [
    "import numpy as np\n",
    "from random import shuffle\n",
    "from functools import reduce\n",
    "\n",
    "import csv\n",
    "import pickle\n",
    "\n",
    "import matplotlib.pyplot as plt\n",
    "\n",
    "from sklearn.model_selection import train_test_split, ShuffleSplit\n",
    "from sklearn.utils import shuffle\n",
    "# from sklearn.utils import compute_class_weight\n",
    "\n",
    "import tensorflow as tf\n",
    "# from keras import layers, regularizers\n",
    "#layers = tf.keras.layers\n",
    "from tensorflow.keras import layers, models\n",
    "regularizers = tf.keras.regularizers"
   ]
  },
  {
   "cell_type": "code",
   "execution_count": 161,
   "id": "8814b87d",
   "metadata": {},
   "outputs": [],
   "source": [
    "def read_files( filenames ):\n",
    "\n",
    "    params = []\n",
    "    flagged = []\n",
    "    event_number = []\n",
    "    for filename in filenames:\n",
    "        with open(filename, 'r') as f:\n",
    "            reader = csv.reader(f)\n",
    "            first_event=True\n",
    "            event_matrix = []\n",
    "            for line in reader:\n",
    "                splitline = line[0].split(' ')\n",
    "                if splitline[0]=='E':\n",
    "                    if not first_event: params.append(event_matrix)\n",
    "                    if first_event: first_event=False\n",
    "                    event_number.append(int(splitline[1]))\n",
    "                    flagged.append(int(splitline[2]))\n",
    "                    event_matrix = []\n",
    "                else:\n",
    "                    param_line = [float(s) for s in line]\n",
    "                    event_matrix.append(param_line)\n",
    "            params.append(event_matrix)\n",
    "\n",
    "    flagged = np.array(flagged, dtype=np.float64)\n",
    "    event_number = np.array(event_number, dtype=np.float64)\n",
    "    # zero-pad params\n",
    "    params_max_size = max(map(len, params))\n",
    "    params = np.array(list(map(lambda mat: np.pad(np.array(mat, dtype=np.float64), ((0, params_max_size - len(mat)), (0, 0))), params))).reshape((-1, params_max_size, 1, 1, 4))\n",
    "\n",
    "    return (params,flagged,event_number)"
   ]
  },
  {
   "cell_type": "code",
   "execution_count": 166,
   "id": "9cc2b235",
   "metadata": {},
   "outputs": [],
   "source": [
    "filenames = ['data/nodecay/jets_parton_nodecay_'+str(i)+'.dat' for i in range(1,11)]\n",
    "(params,flagged,event_number) = read_files(filenames)\n",
    "filenames = ['data/nodecay/jets_hadron_nodecay_'+str(i)+'.dat' for i in range(1,11)]\n",
    "(params_hadron,flagged_hadron,event_number_hadron) = read_files(filenames)"
   ]
  },
  {
   "cell_type": "code",
   "execution_count": 167,
   "id": "82dfe616",
   "metadata": {},
   "outputs": [],
   "source": [
    "params = params_hadron\n",
    "flagged = flagged_hadron"
   ]
  },
  {
   "cell_type": "markdown",
   "id": "0a686fcb",
   "metadata": {},
   "source": [
    "Data has extreme class imbalance. Subsample the majority class to obtain a balance data set for training"
   ]
  },
  {
   "cell_type": "code",
   "execution_count": 168,
   "id": "379f464f",
   "metadata": {},
   "outputs": [
    {
     "name": "stdout",
     "output_type": "stream",
     "text": [
      "Percentage of flagged c-cbar events: 0.06374269005847953\n"
     ]
    }
   ],
   "source": [
    "is_flagged = flagged==1\n",
    "percentage = np.sum(is_flagged) / len(flagged)\n",
    "print('Percentage of flagged c-cbar events: '+str(percentage))"
   ]
  },
  {
   "cell_type": "code",
   "execution_count": 169,
   "id": "2da49ec0",
   "metadata": {},
   "outputs": [],
   "source": [
    "flagged_params = params[ is_flagged ]\n",
    "unflagged_params = params[ ~is_flagged ]\n",
    "\n",
    "# downsample the unflagged (majority) class to be equal in length to the flagged (minority) class\n",
    "unflagged_indices = np.random.choice(unflagged_params.shape[0], size=len(flagged_params), replace=False)\n",
    "to_keep = unflagged_params[ unflagged_indices ]\n",
    "\n",
    "# re-append flagged and unflagged samples together\n",
    "keep_params = np.concatenate( (flagged_params, to_keep) )\n",
    "keep_flagged = np.concatenate( (np.ones(len(flagged_params)), np.zeros(len(to_keep))) )\n",
    "X_orig, y_orig = shuffle( keep_params, keep_flagged, random_state=0 ) # shuffle so that flagged and unflagged classes are all mixed together"
   ]
  },
  {
   "cell_type": "code",
   "execution_count": 170,
   "id": "87683545",
   "metadata": {},
   "outputs": [],
   "source": [
    "def category_encoding_layer(pdgs, max_tokens=None):\n",
    "  \n",
    "  # Create a layer that turns integers into indices.\n",
    "  index = layers.IntegerLookup(max_tokens=max_tokens)\n",
    "\n",
    "  # Learn the set of possible values and assign them a fixed integer index.\n",
    "  index.adapt( pdgs )\n",
    "\n",
    "  # Encode the integer indices.\n",
    "  encoder = layers.CategoryEncoding(num_tokens=index.vocabulary_size(), output_mode=\"one_hot\")\n",
    "\n",
    "  return lambda feature: encoder(index(feature))\n",
    "\n",
    "def do_category_encoding(dataset, category_index):\n",
    "\n",
    "    encoding_layer = category_encoding_layer( dataset[:,:,:,:,category_index] )\n",
    "    encoded_pdgs = np.asarray( encoding_layer( dataset[:,:,:,:,category_index] ) )\n",
    "    mask = np.ones( dataset.shape[4], bool)\n",
    "    mask[category_index] = False\n",
    "    dataset = np.concatenate( (dataset[:,:,:,:,mask], encoded_pdgs), axis=4 )\n",
    "    return dataset"
   ]
  },
  {
   "cell_type": "markdown",
   "id": "978ec252",
   "metadata": {},
   "source": [
    "The most useful piece of information for understanding whether there is a c-cbar splitting inside of a jet is whether there is a c-cbar pair inside of the jet, but this information is often not accessible experimentally. As a test, we remove this information (either replacing charms with gluons or light quarks) and retrain the model to see how this impacts the performance"
   ]
  },
  {
   "cell_type": "code",
   "execution_count": 171,
   "id": "65859624",
   "metadata": {},
   "outputs": [],
   "source": [
    "def replace_charms(pdgs, replacement):\n",
    "\n",
    "    assert replacement=='gluons' or replacement=='light quarks'\n",
    "\n",
    "    mask = np.isin(pdgs,[4,-4])\n",
    "\n",
    "    # replace with the id of gluons (21)\n",
    "    if replacement=='gluons':\n",
    "        pdgs[ mask ] = 21\n",
    "\n",
    "    # replace with up quarks (1)\n",
    "    elif replacement=='light quarks':\n",
    "        pdgs[ mask ] = np.sign( pdgs[mask] )"
   ]
  },
  {
   "cell_type": "markdown",
   "id": "2655616b",
   "metadata": {},
   "source": [
    "Make a copy of the original data, and then create two modifications for testing - either the charms are replaced by gluons, or by light (up) quarks"
   ]
  },
  {
   "cell_type": "code",
   "execution_count": 172,
   "id": "2f102df4",
   "metadata": {},
   "outputs": [],
   "source": [
    "category_index = 3 # the only category in this dataset is the particle id, which is at index 3\n",
    "\n",
    "X_orig_encoded = do_category_encoding(X_orig, category_index)\n",
    "x_train_orig, x_test_orig, y_train_orig, y_test_orig = train_test_split(X_orig_encoded, y_orig, test_size = .2, random_state = 0)\n",
    "\n",
    "# X = X_orig.copy()\n",
    "# replace_charms(X[:,:,:,:,category_index], 'light quarks')\n",
    "# X_encoded = do_category_encoding(X, category_index)\n",
    "# x_train_light, x_test_light, y_train_light, y_test_light = train_test_split(X_encoded, y_orig, test_size = .2, random_state = 0)\n",
    "# test_light = X[:,:,:,:,category_index].flatten()\n",
    "\n",
    "# X2 = X_orig.copy()\n",
    "# replace_charms(X2[:,:,:,:,category_index], 'gluons')\n",
    "# X_encoded = do_category_encoding(X2, category_index)\n",
    "# x_train_gluon, x_test_gluon, y_train_gluon, y_test_gluon = train_test_split(X_encoded, y_orig, test_size = .2, random_state = 0)\n",
    "# test_gluon = X2[:,:,:,:,category_index].flatten()"
   ]
  },
  {
   "cell_type": "markdown",
   "id": "8b048d17",
   "metadata": {},
   "source": [
    "Make the model"
   ]
  },
  {
   "cell_type": "code",
   "execution_count": 173,
   "id": "69d867f2",
   "metadata": {},
   "outputs": [],
   "source": [
    "class ReductionLayer(layers.Layer):\n",
    "    def __init__(self, name):\n",
    "        super(ReductionLayer, self).__init__(name=name)\n",
    "\n",
    "    def compute_mask(self, inputs, mask=None):\n",
    "        return mask\n",
    "\n",
    "    def call(self, inputs):\n",
    "        return tf.reduce_sum(inputs, axis=[1, 2, 3])\n",
    "\n",
    "\n",
    "def get_clf(\n",
    "    meta={},\n",
    "    hidden_layer_size=100,\n",
    "    observable_num=128,\n",
    "    activation='leaky_relu',\n",
    "    dropout=0.2,\n",
    "    kernel_reg=1e-5,\n",
    "    bias_reg=1e-5,\n",
    "    activity_reg=1e-5,\n",
    "    shape=x_train_orig.shape[1:]\n",
    "):\n",
    "    inputs = layers.Input(\n",
    "        shape=shape,\n",
    "        name=\"input\",\n",
    "    )\n",
    "    masked_inputs = layers.Masking(mask_value=0.0, name=\"masking\")(inputs)\n",
    "    dense_1 = layers.TimeDistributed(\n",
    "        layers.Dense(\n",
    "            hidden_layer_size,\n",
    "            activation=activation,\n",
    "            kernel_regularizer=regularizers.L2(kernel_reg),\n",
    "            bias_regularizer=regularizers.L2(bias_reg),\n",
    "            activity_regularizer=regularizers.L2(activity_reg),\n",
    "        ),\n",
    "        name=\"dense_1\",\n",
    "    )(masked_inputs)\n",
    "    dropout_1 = layers.Dropout(dropout)(dense_1)\n",
    "    dense_2 = layers.TimeDistributed(\n",
    "        layers.Dense(\n",
    "            hidden_layer_size,\n",
    "            activation=activation,\n",
    "            kernel_regularizer=regularizers.L2(kernel_reg),\n",
    "            bias_regularizer=regularizers.L2(bias_reg),\n",
    "            activity_regularizer=regularizers.L2(activity_reg),\n",
    "        ),\n",
    "        name=\"dense_2\",\n",
    "    )(dropout_1)\n",
    "    dropout_2 = layers.Dropout(dropout)(dense_2)\n",
    "    distributed_phi = layers.TimeDistributed(\n",
    "        layers.Dense(\n",
    "            observable_num,\n",
    "            activation=activation,\n",
    "            kernel_regularizer=regularizers.L2(kernel_reg),\n",
    "            bias_regularizer=regularizers.L2(bias_reg),\n",
    "            activity_regularizer=regularizers.L2(activity_reg),\n",
    "        ),\n",
    "        name=\"distributed_phi\",\n",
    "    )(dropout_2)\n",
    "    observables = ReductionLayer(name=\"observables\")(distributed_phi)\n",
    "    dropout_obs = layers.Dropout(dropout)(observables)\n",
    "    dense_3 = layers.Dense(\n",
    "        hidden_layer_size,\n",
    "        activation=activation,\n",
    "        kernel_regularizer=regularizers.L2(kernel_reg),\n",
    "        bias_regularizer=regularizers.L2(bias_reg),\n",
    "        activity_regularizer=regularizers.L2(activity_reg),\n",
    "        name=\"dense_3\",\n",
    "    )(dropout_obs)\n",
    "    dropout_3 = layers.Dropout(dropout)(dense_3)\n",
    "    dense_4 = layers.Dense(\n",
    "        hidden_layer_size,\n",
    "        activation=activation,\n",
    "        kernel_regularizer=regularizers.L2(kernel_reg),\n",
    "        bias_regularizer=regularizers.L2(bias_reg),\n",
    "        activity_regularizer=regularizers.L2(activity_reg),\n",
    "        name=\"dense_4\",\n",
    "    )(dropout_3)\n",
    "    dropout_4 = layers.Dropout(dropout)(dense_4)\n",
    "    dense_5 = layers.Dense(\n",
    "        hidden_layer_size,\n",
    "        activation=activation,\n",
    "        kernel_regularizer=regularizers.L2(kernel_reg),\n",
    "        bias_regularizer=regularizers.L2(bias_reg),\n",
    "        activity_regularizer=regularizers.L2(activity_reg),\n",
    "        name=\"dense_5\",\n",
    "    )(dropout_4)\n",
    "    dropout_5 = layers.Dropout(dropout)(dense_5)\n",
    "    output = layers.Dense(1, activation=\"sigmoid\", name=\"output\")(dropout_5)\n",
    "\n",
    "    model = tf.keras.models.Model(inputs=inputs, outputs=output)\n",
    "\n",
    "    return model"
   ]
  },
  {
   "cell_type": "code",
   "execution_count": 174,
   "id": "2b295939",
   "metadata": {},
   "outputs": [],
   "source": [
    "clf = get_clf(dropout=0.2)\n",
    "\n",
    "loss_fn = tf.keras.losses.BinaryCrossentropy(from_logits=False)\n",
    "\n",
    "# class_weights = compute_class_weight(\n",
    "#     class_weight=\"balanced\", classes=np.unique(flagged), y=flagged\n",
    "# )\n",
    "# class_weights /= sum(class_weights)\n",
    "# loss_fn = tf.keras.losses.BinaryFocalCrossentropy(\n",
    "#     apply_class_balancing=True, alpha=0.5, gamma=2, from_logits=False\n",
    "# )\n",
    "\n",
    "clf.compile(optimizer=\"adam\", loss=loss_fn, metrics=[\"Accuracy\", \"AUC\", \"Precision\", \"Recall\"])"
   ]
  },
  {
   "cell_type": "markdown",
   "id": "6cd1c16e",
   "metadata": {},
   "source": [
    "The most useful piece of information for understanding whether there is a c-cbar splitting inside of a jet is whether there is a c-cbar pair inside of the jet, but this information is often not accessible experimentally. As a test, we remove this information (either replacing charms with gluons or light quarks) and retrain the model to see how this impacts the performance"
   ]
  },
  {
   "cell_type": "code",
   "execution_count": 175,
   "id": "20b402dc",
   "metadata": {},
   "outputs": [
    {
     "data": {
      "text/html": [
       "<pre style=\"white-space:pre;overflow-x:auto;line-height:normal;font-family:Menlo,'DejaVu Sans Mono',consolas,'Courier New',monospace\"><span style=\"font-weight: bold\">Model: \"functional_13\"</span>\n",
       "</pre>\n"
      ],
      "text/plain": [
       "\u001b[1mModel: \"functional_13\"\u001b[0m\n"
      ]
     },
     "metadata": {},
     "output_type": "display_data"
    },
    {
     "data": {
      "text/html": [
       "<pre style=\"white-space:pre;overflow-x:auto;line-height:normal;font-family:Menlo,'DejaVu Sans Mono',consolas,'Courier New',monospace\">┏━━━━━━━━━━━━━━━━━━━━━┳━━━━━━━━━━━━━━━━━━━┳━━━━━━━━━━━━┳━━━━━━━━━━━━━━━━━━━┓\n",
       "┃<span style=\"font-weight: bold\"> Layer (type)        </span>┃<span style=\"font-weight: bold\"> Output Shape      </span>┃<span style=\"font-weight: bold\">    Param # </span>┃<span style=\"font-weight: bold\"> Connected to      </span>┃\n",
       "┡━━━━━━━━━━━━━━━━━━━━━╇━━━━━━━━━━━━━━━━━━━╇━━━━━━━━━━━━╇━━━━━━━━━━━━━━━━━━━┩\n",
       "│ input (<span style=\"color: #0087ff; text-decoration-color: #0087ff\">InputLayer</span>)  │ (<span style=\"color: #00d7ff; text-decoration-color: #00d7ff\">None</span>, <span style=\"color: #00af00; text-decoration-color: #00af00\">90</span>, <span style=\"color: #00af00; text-decoration-color: #00af00\">1</span>, <span style=\"color: #00af00; text-decoration-color: #00af00\">1</span>,  │          <span style=\"color: #00af00; text-decoration-color: #00af00\">0</span> │ -                 │\n",
       "│                     │ <span style=\"color: #00af00; text-decoration-color: #00af00\">43</span>)               │            │                   │\n",
       "├─────────────────────┼───────────────────┼────────────┼───────────────────┤\n",
       "│ not_equal_6         │ (<span style=\"color: #00d7ff; text-decoration-color: #00d7ff\">None</span>, <span style=\"color: #00af00; text-decoration-color: #00af00\">90</span>, <span style=\"color: #00af00; text-decoration-color: #00af00\">1</span>, <span style=\"color: #00af00; text-decoration-color: #00af00\">1</span>,  │          <span style=\"color: #00af00; text-decoration-color: #00af00\">0</span> │ input[<span style=\"color: #00af00; text-decoration-color: #00af00\">0</span>][<span style=\"color: #00af00; text-decoration-color: #00af00\">0</span>]       │\n",
       "│ (<span style=\"color: #0087ff; text-decoration-color: #0087ff\">NotEqual</span>)          │ <span style=\"color: #00af00; text-decoration-color: #00af00\">43</span>)               │            │                   │\n",
       "├─────────────────────┼───────────────────┼────────────┼───────────────────┤\n",
       "│ masking (<span style=\"color: #0087ff; text-decoration-color: #0087ff\">Masking</span>)   │ (<span style=\"color: #00d7ff; text-decoration-color: #00d7ff\">None</span>, <span style=\"color: #00af00; text-decoration-color: #00af00\">90</span>, <span style=\"color: #00af00; text-decoration-color: #00af00\">1</span>, <span style=\"color: #00af00; text-decoration-color: #00af00\">1</span>,  │          <span style=\"color: #00af00; text-decoration-color: #00af00\">0</span> │ input[<span style=\"color: #00af00; text-decoration-color: #00af00\">0</span>][<span style=\"color: #00af00; text-decoration-color: #00af00\">0</span>]       │\n",
       "│                     │ <span style=\"color: #00af00; text-decoration-color: #00af00\">43</span>)               │            │                   │\n",
       "├─────────────────────┼───────────────────┼────────────┼───────────────────┤\n",
       "│ any_6 (<span style=\"color: #0087ff; text-decoration-color: #0087ff\">Any</span>)         │ (<span style=\"color: #00d7ff; text-decoration-color: #00d7ff\">None</span>, <span style=\"color: #00af00; text-decoration-color: #00af00\">90</span>, <span style=\"color: #00af00; text-decoration-color: #00af00\">1</span>, <span style=\"color: #00af00; text-decoration-color: #00af00\">1</span>)  │          <span style=\"color: #00af00; text-decoration-color: #00af00\">0</span> │ not_equal_6[<span style=\"color: #00af00; text-decoration-color: #00af00\">0</span>][<span style=\"color: #00af00; text-decoration-color: #00af00\">0</span>] │\n",
       "├─────────────────────┼───────────────────┼────────────┼───────────────────┤\n",
       "│ dense_1             │ (<span style=\"color: #00d7ff; text-decoration-color: #00d7ff\">None</span>, <span style=\"color: #00af00; text-decoration-color: #00af00\">90</span>, <span style=\"color: #00af00; text-decoration-color: #00af00\">1</span>, <span style=\"color: #00af00; text-decoration-color: #00af00\">1</span>,  │      <span style=\"color: #00af00; text-decoration-color: #00af00\">4,400</span> │ masking[<span style=\"color: #00af00; text-decoration-color: #00af00\">0</span>][<span style=\"color: #00af00; text-decoration-color: #00af00\">0</span>],    │\n",
       "│ (<span style=\"color: #0087ff; text-decoration-color: #0087ff\">TimeDistributed</span>)   │ <span style=\"color: #00af00; text-decoration-color: #00af00\">100</span>)              │            │ any_6[<span style=\"color: #00af00; text-decoration-color: #00af00\">0</span>][<span style=\"color: #00af00; text-decoration-color: #00af00\">0</span>]       │\n",
       "├─────────────────────┼───────────────────┼────────────┼───────────────────┤\n",
       "│ dropout_36          │ (<span style=\"color: #00d7ff; text-decoration-color: #00d7ff\">None</span>, <span style=\"color: #00af00; text-decoration-color: #00af00\">90</span>, <span style=\"color: #00af00; text-decoration-color: #00af00\">1</span>, <span style=\"color: #00af00; text-decoration-color: #00af00\">1</span>,  │          <span style=\"color: #00af00; text-decoration-color: #00af00\">0</span> │ dense_1[<span style=\"color: #00af00; text-decoration-color: #00af00\">0</span>][<span style=\"color: #00af00; text-decoration-color: #00af00\">0</span>]     │\n",
       "│ (<span style=\"color: #0087ff; text-decoration-color: #0087ff\">Dropout</span>)           │ <span style=\"color: #00af00; text-decoration-color: #00af00\">100</span>)              │            │                   │\n",
       "├─────────────────────┼───────────────────┼────────────┼───────────────────┤\n",
       "│ dense_2             │ (<span style=\"color: #00d7ff; text-decoration-color: #00d7ff\">None</span>, <span style=\"color: #00af00; text-decoration-color: #00af00\">90</span>, <span style=\"color: #00af00; text-decoration-color: #00af00\">1</span>, <span style=\"color: #00af00; text-decoration-color: #00af00\">1</span>,  │     <span style=\"color: #00af00; text-decoration-color: #00af00\">10,100</span> │ dropout_36[<span style=\"color: #00af00; text-decoration-color: #00af00\">0</span>][<span style=\"color: #00af00; text-decoration-color: #00af00\">0</span>], │\n",
       "│ (<span style=\"color: #0087ff; text-decoration-color: #0087ff\">TimeDistributed</span>)   │ <span style=\"color: #00af00; text-decoration-color: #00af00\">100</span>)              │            │ any_6[<span style=\"color: #00af00; text-decoration-color: #00af00\">0</span>][<span style=\"color: #00af00; text-decoration-color: #00af00\">0</span>]       │\n",
       "├─────────────────────┼───────────────────┼────────────┼───────────────────┤\n",
       "│ dropout_37          │ (<span style=\"color: #00d7ff; text-decoration-color: #00d7ff\">None</span>, <span style=\"color: #00af00; text-decoration-color: #00af00\">90</span>, <span style=\"color: #00af00; text-decoration-color: #00af00\">1</span>, <span style=\"color: #00af00; text-decoration-color: #00af00\">1</span>,  │          <span style=\"color: #00af00; text-decoration-color: #00af00\">0</span> │ dense_2[<span style=\"color: #00af00; text-decoration-color: #00af00\">0</span>][<span style=\"color: #00af00; text-decoration-color: #00af00\">0</span>]     │\n",
       "│ (<span style=\"color: #0087ff; text-decoration-color: #0087ff\">Dropout</span>)           │ <span style=\"color: #00af00; text-decoration-color: #00af00\">100</span>)              │            │                   │\n",
       "├─────────────────────┼───────────────────┼────────────┼───────────────────┤\n",
       "│ distributed_phi     │ (<span style=\"color: #00d7ff; text-decoration-color: #00d7ff\">None</span>, <span style=\"color: #00af00; text-decoration-color: #00af00\">90</span>, <span style=\"color: #00af00; text-decoration-color: #00af00\">1</span>, <span style=\"color: #00af00; text-decoration-color: #00af00\">1</span>,  │     <span style=\"color: #00af00; text-decoration-color: #00af00\">12,928</span> │ dropout_37[<span style=\"color: #00af00; text-decoration-color: #00af00\">0</span>][<span style=\"color: #00af00; text-decoration-color: #00af00\">0</span>], │\n",
       "│ (<span style=\"color: #0087ff; text-decoration-color: #0087ff\">TimeDistributed</span>)   │ <span style=\"color: #00af00; text-decoration-color: #00af00\">128</span>)              │            │ any_6[<span style=\"color: #00af00; text-decoration-color: #00af00\">0</span>][<span style=\"color: #00af00; text-decoration-color: #00af00\">0</span>]       │\n",
       "├─────────────────────┼───────────────────┼────────────┼───────────────────┤\n",
       "│ observables         │ (<span style=\"color: #00d7ff; text-decoration-color: #00d7ff\">None</span>, <span style=\"color: #00af00; text-decoration-color: #00af00\">128</span>)       │          <span style=\"color: #00af00; text-decoration-color: #00af00\">0</span> │ distributed_phi[<span style=\"color: #00af00; text-decoration-color: #00af00\">…</span> │\n",
       "│ (<span style=\"color: #0087ff; text-decoration-color: #0087ff\">ReductionLayer</span>)    │                   │            │                   │\n",
       "├─────────────────────┼───────────────────┼────────────┼───────────────────┤\n",
       "│ dropout_38          │ (<span style=\"color: #00d7ff; text-decoration-color: #00d7ff\">None</span>, <span style=\"color: #00af00; text-decoration-color: #00af00\">128</span>)       │          <span style=\"color: #00af00; text-decoration-color: #00af00\">0</span> │ observables[<span style=\"color: #00af00; text-decoration-color: #00af00\">0</span>][<span style=\"color: #00af00; text-decoration-color: #00af00\">0</span>] │\n",
       "│ (<span style=\"color: #0087ff; text-decoration-color: #0087ff\">Dropout</span>)           │                   │            │                   │\n",
       "├─────────────────────┼───────────────────┼────────────┼───────────────────┤\n",
       "│ dense_3 (<span style=\"color: #0087ff; text-decoration-color: #0087ff\">Dense</span>)     │ (<span style=\"color: #00d7ff; text-decoration-color: #00d7ff\">None</span>, <span style=\"color: #00af00; text-decoration-color: #00af00\">100</span>)       │     <span style=\"color: #00af00; text-decoration-color: #00af00\">12,900</span> │ dropout_38[<span style=\"color: #00af00; text-decoration-color: #00af00\">0</span>][<span style=\"color: #00af00; text-decoration-color: #00af00\">0</span>]  │\n",
       "├─────────────────────┼───────────────────┼────────────┼───────────────────┤\n",
       "│ dropout_39          │ (<span style=\"color: #00d7ff; text-decoration-color: #00d7ff\">None</span>, <span style=\"color: #00af00; text-decoration-color: #00af00\">100</span>)       │          <span style=\"color: #00af00; text-decoration-color: #00af00\">0</span> │ dense_3[<span style=\"color: #00af00; text-decoration-color: #00af00\">0</span>][<span style=\"color: #00af00; text-decoration-color: #00af00\">0</span>]     │\n",
       "│ (<span style=\"color: #0087ff; text-decoration-color: #0087ff\">Dropout</span>)           │                   │            │                   │\n",
       "├─────────────────────┼───────────────────┼────────────┼───────────────────┤\n",
       "│ dense_4 (<span style=\"color: #0087ff; text-decoration-color: #0087ff\">Dense</span>)     │ (<span style=\"color: #00d7ff; text-decoration-color: #00d7ff\">None</span>, <span style=\"color: #00af00; text-decoration-color: #00af00\">100</span>)       │     <span style=\"color: #00af00; text-decoration-color: #00af00\">10,100</span> │ dropout_39[<span style=\"color: #00af00; text-decoration-color: #00af00\">0</span>][<span style=\"color: #00af00; text-decoration-color: #00af00\">0</span>]  │\n",
       "├─────────────────────┼───────────────────┼────────────┼───────────────────┤\n",
       "│ dropout_40          │ (<span style=\"color: #00d7ff; text-decoration-color: #00d7ff\">None</span>, <span style=\"color: #00af00; text-decoration-color: #00af00\">100</span>)       │          <span style=\"color: #00af00; text-decoration-color: #00af00\">0</span> │ dense_4[<span style=\"color: #00af00; text-decoration-color: #00af00\">0</span>][<span style=\"color: #00af00; text-decoration-color: #00af00\">0</span>]     │\n",
       "│ (<span style=\"color: #0087ff; text-decoration-color: #0087ff\">Dropout</span>)           │                   │            │                   │\n",
       "├─────────────────────┼───────────────────┼────────────┼───────────────────┤\n",
       "│ dense_5 (<span style=\"color: #0087ff; text-decoration-color: #0087ff\">Dense</span>)     │ (<span style=\"color: #00d7ff; text-decoration-color: #00d7ff\">None</span>, <span style=\"color: #00af00; text-decoration-color: #00af00\">100</span>)       │     <span style=\"color: #00af00; text-decoration-color: #00af00\">10,100</span> │ dropout_40[<span style=\"color: #00af00; text-decoration-color: #00af00\">0</span>][<span style=\"color: #00af00; text-decoration-color: #00af00\">0</span>]  │\n",
       "├─────────────────────┼───────────────────┼────────────┼───────────────────┤\n",
       "│ dropout_41          │ (<span style=\"color: #00d7ff; text-decoration-color: #00d7ff\">None</span>, <span style=\"color: #00af00; text-decoration-color: #00af00\">100</span>)       │          <span style=\"color: #00af00; text-decoration-color: #00af00\">0</span> │ dense_5[<span style=\"color: #00af00; text-decoration-color: #00af00\">0</span>][<span style=\"color: #00af00; text-decoration-color: #00af00\">0</span>]     │\n",
       "│ (<span style=\"color: #0087ff; text-decoration-color: #0087ff\">Dropout</span>)           │                   │            │                   │\n",
       "├─────────────────────┼───────────────────┼────────────┼───────────────────┤\n",
       "│ output (<span style=\"color: #0087ff; text-decoration-color: #0087ff\">Dense</span>)      │ (<span style=\"color: #00d7ff; text-decoration-color: #00d7ff\">None</span>, <span style=\"color: #00af00; text-decoration-color: #00af00\">1</span>)         │        <span style=\"color: #00af00; text-decoration-color: #00af00\">101</span> │ dropout_41[<span style=\"color: #00af00; text-decoration-color: #00af00\">0</span>][<span style=\"color: #00af00; text-decoration-color: #00af00\">0</span>]  │\n",
       "└─────────────────────┴───────────────────┴────────────┴───────────────────┘\n",
       "</pre>\n"
      ],
      "text/plain": [
       "┏━━━━━━━━━━━━━━━━━━━━━┳━━━━━━━━━━━━━━━━━━━┳━━━━━━━━━━━━┳━━━━━━━━━━━━━━━━━━━┓\n",
       "┃\u001b[1m \u001b[0m\u001b[1mLayer (type)       \u001b[0m\u001b[1m \u001b[0m┃\u001b[1m \u001b[0m\u001b[1mOutput Shape     \u001b[0m\u001b[1m \u001b[0m┃\u001b[1m \u001b[0m\u001b[1m   Param #\u001b[0m\u001b[1m \u001b[0m┃\u001b[1m \u001b[0m\u001b[1mConnected to     \u001b[0m\u001b[1m \u001b[0m┃\n",
       "┡━━━━━━━━━━━━━━━━━━━━━╇━━━━━━━━━━━━━━━━━━━╇━━━━━━━━━━━━╇━━━━━━━━━━━━━━━━━━━┩\n",
       "│ input (\u001b[38;5;33mInputLayer\u001b[0m)  │ (\u001b[38;5;45mNone\u001b[0m, \u001b[38;5;34m90\u001b[0m, \u001b[38;5;34m1\u001b[0m, \u001b[38;5;34m1\u001b[0m,  │          \u001b[38;5;34m0\u001b[0m │ -                 │\n",
       "│                     │ \u001b[38;5;34m43\u001b[0m)               │            │                   │\n",
       "├─────────────────────┼───────────────────┼────────────┼───────────────────┤\n",
       "│ not_equal_6         │ (\u001b[38;5;45mNone\u001b[0m, \u001b[38;5;34m90\u001b[0m, \u001b[38;5;34m1\u001b[0m, \u001b[38;5;34m1\u001b[0m,  │          \u001b[38;5;34m0\u001b[0m │ input[\u001b[38;5;34m0\u001b[0m][\u001b[38;5;34m0\u001b[0m]       │\n",
       "│ (\u001b[38;5;33mNotEqual\u001b[0m)          │ \u001b[38;5;34m43\u001b[0m)               │            │                   │\n",
       "├─────────────────────┼───────────────────┼────────────┼───────────────────┤\n",
       "│ masking (\u001b[38;5;33mMasking\u001b[0m)   │ (\u001b[38;5;45mNone\u001b[0m, \u001b[38;5;34m90\u001b[0m, \u001b[38;5;34m1\u001b[0m, \u001b[38;5;34m1\u001b[0m,  │          \u001b[38;5;34m0\u001b[0m │ input[\u001b[38;5;34m0\u001b[0m][\u001b[38;5;34m0\u001b[0m]       │\n",
       "│                     │ \u001b[38;5;34m43\u001b[0m)               │            │                   │\n",
       "├─────────────────────┼───────────────────┼────────────┼───────────────────┤\n",
       "│ any_6 (\u001b[38;5;33mAny\u001b[0m)         │ (\u001b[38;5;45mNone\u001b[0m, \u001b[38;5;34m90\u001b[0m, \u001b[38;5;34m1\u001b[0m, \u001b[38;5;34m1\u001b[0m)  │          \u001b[38;5;34m0\u001b[0m │ not_equal_6[\u001b[38;5;34m0\u001b[0m][\u001b[38;5;34m0\u001b[0m] │\n",
       "├─────────────────────┼───────────────────┼────────────┼───────────────────┤\n",
       "│ dense_1             │ (\u001b[38;5;45mNone\u001b[0m, \u001b[38;5;34m90\u001b[0m, \u001b[38;5;34m1\u001b[0m, \u001b[38;5;34m1\u001b[0m,  │      \u001b[38;5;34m4,400\u001b[0m │ masking[\u001b[38;5;34m0\u001b[0m][\u001b[38;5;34m0\u001b[0m],    │\n",
       "│ (\u001b[38;5;33mTimeDistributed\u001b[0m)   │ \u001b[38;5;34m100\u001b[0m)              │            │ any_6[\u001b[38;5;34m0\u001b[0m][\u001b[38;5;34m0\u001b[0m]       │\n",
       "├─────────────────────┼───────────────────┼────────────┼───────────────────┤\n",
       "│ dropout_36          │ (\u001b[38;5;45mNone\u001b[0m, \u001b[38;5;34m90\u001b[0m, \u001b[38;5;34m1\u001b[0m, \u001b[38;5;34m1\u001b[0m,  │          \u001b[38;5;34m0\u001b[0m │ dense_1[\u001b[38;5;34m0\u001b[0m][\u001b[38;5;34m0\u001b[0m]     │\n",
       "│ (\u001b[38;5;33mDropout\u001b[0m)           │ \u001b[38;5;34m100\u001b[0m)              │            │                   │\n",
       "├─────────────────────┼───────────────────┼────────────┼───────────────────┤\n",
       "│ dense_2             │ (\u001b[38;5;45mNone\u001b[0m, \u001b[38;5;34m90\u001b[0m, \u001b[38;5;34m1\u001b[0m, \u001b[38;5;34m1\u001b[0m,  │     \u001b[38;5;34m10,100\u001b[0m │ dropout_36[\u001b[38;5;34m0\u001b[0m][\u001b[38;5;34m0\u001b[0m], │\n",
       "│ (\u001b[38;5;33mTimeDistributed\u001b[0m)   │ \u001b[38;5;34m100\u001b[0m)              │            │ any_6[\u001b[38;5;34m0\u001b[0m][\u001b[38;5;34m0\u001b[0m]       │\n",
       "├─────────────────────┼───────────────────┼────────────┼───────────────────┤\n",
       "│ dropout_37          │ (\u001b[38;5;45mNone\u001b[0m, \u001b[38;5;34m90\u001b[0m, \u001b[38;5;34m1\u001b[0m, \u001b[38;5;34m1\u001b[0m,  │          \u001b[38;5;34m0\u001b[0m │ dense_2[\u001b[38;5;34m0\u001b[0m][\u001b[38;5;34m0\u001b[0m]     │\n",
       "│ (\u001b[38;5;33mDropout\u001b[0m)           │ \u001b[38;5;34m100\u001b[0m)              │            │                   │\n",
       "├─────────────────────┼───────────────────┼────────────┼───────────────────┤\n",
       "│ distributed_phi     │ (\u001b[38;5;45mNone\u001b[0m, \u001b[38;5;34m90\u001b[0m, \u001b[38;5;34m1\u001b[0m, \u001b[38;5;34m1\u001b[0m,  │     \u001b[38;5;34m12,928\u001b[0m │ dropout_37[\u001b[38;5;34m0\u001b[0m][\u001b[38;5;34m0\u001b[0m], │\n",
       "│ (\u001b[38;5;33mTimeDistributed\u001b[0m)   │ \u001b[38;5;34m128\u001b[0m)              │            │ any_6[\u001b[38;5;34m0\u001b[0m][\u001b[38;5;34m0\u001b[0m]       │\n",
       "├─────────────────────┼───────────────────┼────────────┼───────────────────┤\n",
       "│ observables         │ (\u001b[38;5;45mNone\u001b[0m, \u001b[38;5;34m128\u001b[0m)       │          \u001b[38;5;34m0\u001b[0m │ distributed_phi[\u001b[38;5;34m…\u001b[0m │\n",
       "│ (\u001b[38;5;33mReductionLayer\u001b[0m)    │                   │            │                   │\n",
       "├─────────────────────┼───────────────────┼────────────┼───────────────────┤\n",
       "│ dropout_38          │ (\u001b[38;5;45mNone\u001b[0m, \u001b[38;5;34m128\u001b[0m)       │          \u001b[38;5;34m0\u001b[0m │ observables[\u001b[38;5;34m0\u001b[0m][\u001b[38;5;34m0\u001b[0m] │\n",
       "│ (\u001b[38;5;33mDropout\u001b[0m)           │                   │            │                   │\n",
       "├─────────────────────┼───────────────────┼────────────┼───────────────────┤\n",
       "│ dense_3 (\u001b[38;5;33mDense\u001b[0m)     │ (\u001b[38;5;45mNone\u001b[0m, \u001b[38;5;34m100\u001b[0m)       │     \u001b[38;5;34m12,900\u001b[0m │ dropout_38[\u001b[38;5;34m0\u001b[0m][\u001b[38;5;34m0\u001b[0m]  │\n",
       "├─────────────────────┼───────────────────┼────────────┼───────────────────┤\n",
       "│ dropout_39          │ (\u001b[38;5;45mNone\u001b[0m, \u001b[38;5;34m100\u001b[0m)       │          \u001b[38;5;34m0\u001b[0m │ dense_3[\u001b[38;5;34m0\u001b[0m][\u001b[38;5;34m0\u001b[0m]     │\n",
       "│ (\u001b[38;5;33mDropout\u001b[0m)           │                   │            │                   │\n",
       "├─────────────────────┼───────────────────┼────────────┼───────────────────┤\n",
       "│ dense_4 (\u001b[38;5;33mDense\u001b[0m)     │ (\u001b[38;5;45mNone\u001b[0m, \u001b[38;5;34m100\u001b[0m)       │     \u001b[38;5;34m10,100\u001b[0m │ dropout_39[\u001b[38;5;34m0\u001b[0m][\u001b[38;5;34m0\u001b[0m]  │\n",
       "├─────────────────────┼───────────────────┼────────────┼───────────────────┤\n",
       "│ dropout_40          │ (\u001b[38;5;45mNone\u001b[0m, \u001b[38;5;34m100\u001b[0m)       │          \u001b[38;5;34m0\u001b[0m │ dense_4[\u001b[38;5;34m0\u001b[0m][\u001b[38;5;34m0\u001b[0m]     │\n",
       "│ (\u001b[38;5;33mDropout\u001b[0m)           │                   │            │                   │\n",
       "├─────────────────────┼───────────────────┼────────────┼───────────────────┤\n",
       "│ dense_5 (\u001b[38;5;33mDense\u001b[0m)     │ (\u001b[38;5;45mNone\u001b[0m, \u001b[38;5;34m100\u001b[0m)       │     \u001b[38;5;34m10,100\u001b[0m │ dropout_40[\u001b[38;5;34m0\u001b[0m][\u001b[38;5;34m0\u001b[0m]  │\n",
       "├─────────────────────┼───────────────────┼────────────┼───────────────────┤\n",
       "│ dropout_41          │ (\u001b[38;5;45mNone\u001b[0m, \u001b[38;5;34m100\u001b[0m)       │          \u001b[38;5;34m0\u001b[0m │ dense_5[\u001b[38;5;34m0\u001b[0m][\u001b[38;5;34m0\u001b[0m]     │\n",
       "│ (\u001b[38;5;33mDropout\u001b[0m)           │                   │            │                   │\n",
       "├─────────────────────┼───────────────────┼────────────┼───────────────────┤\n",
       "│ output (\u001b[38;5;33mDense\u001b[0m)      │ (\u001b[38;5;45mNone\u001b[0m, \u001b[38;5;34m1\u001b[0m)         │        \u001b[38;5;34m101\u001b[0m │ dropout_41[\u001b[38;5;34m0\u001b[0m][\u001b[38;5;34m0\u001b[0m]  │\n",
       "└─────────────────────┴───────────────────┴────────────┴───────────────────┘\n"
      ]
     },
     "metadata": {},
     "output_type": "display_data"
    },
    {
     "data": {
      "text/html": [
       "<pre style=\"white-space:pre;overflow-x:auto;line-height:normal;font-family:Menlo,'DejaVu Sans Mono',consolas,'Courier New',monospace\"><span style=\"font-weight: bold\"> Total params: </span><span style=\"color: #00af00; text-decoration-color: #00af00\">60,629</span> (236.83 KB)\n",
       "</pre>\n"
      ],
      "text/plain": [
       "\u001b[1m Total params: \u001b[0m\u001b[38;5;34m60,629\u001b[0m (236.83 KB)\n"
      ]
     },
     "metadata": {},
     "output_type": "display_data"
    },
    {
     "data": {
      "text/html": [
       "<pre style=\"white-space:pre;overflow-x:auto;line-height:normal;font-family:Menlo,'DejaVu Sans Mono',consolas,'Courier New',monospace\"><span style=\"font-weight: bold\"> Trainable params: </span><span style=\"color: #00af00; text-decoration-color: #00af00\">60,629</span> (236.83 KB)\n",
       "</pre>\n"
      ],
      "text/plain": [
       "\u001b[1m Trainable params: \u001b[0m\u001b[38;5;34m60,629\u001b[0m (236.83 KB)\n"
      ]
     },
     "metadata": {},
     "output_type": "display_data"
    },
    {
     "data": {
      "text/html": [
       "<pre style=\"white-space:pre;overflow-x:auto;line-height:normal;font-family:Menlo,'DejaVu Sans Mono',consolas,'Courier New',monospace\"><span style=\"font-weight: bold\"> Non-trainable params: </span><span style=\"color: #00af00; text-decoration-color: #00af00\">0</span> (0.00 B)\n",
       "</pre>\n"
      ],
      "text/plain": [
       "\u001b[1m Non-trainable params: \u001b[0m\u001b[38;5;34m0\u001b[0m (0.00 B)\n"
      ]
     },
     "metadata": {},
     "output_type": "display_data"
    }
   ],
   "source": [
    "clf.summary()"
   ]
  },
  {
   "cell_type": "code",
   "execution_count": 176,
   "id": "ad45b45a",
   "metadata": {},
   "outputs": [
    {
     "name": "stdout",
     "output_type": "stream",
     "text": [
      "You must install pydot (`pip install pydot`) for `plot_model` to work.\n"
     ]
    }
   ],
   "source": [
    "dot_img_file = \"./model_1.png\"\n",
    "tf.keras.utils.plot_model(\n",
    "    clf,\n",
    "    to_file=dot_img_file,\n",
    "    show_shapes=True,\n",
    "    show_layer_names=True,\n",
    "    show_layer_activations=True,\n",
    "    expand_nested=True,\n",
    ")"
   ]
  },
  {
   "cell_type": "code",
   "execution_count": 177,
   "id": "278f8b23",
   "metadata": {},
   "outputs": [
    {
     "name": "stdout",
     "output_type": "stream",
     "text": [
      "Epoch 1/50\n",
      "\u001b[1m135/135\u001b[0m \u001b[32m━━━━━━━━━━━━━━━━━━━━\u001b[0m\u001b[37m\u001b[0m \u001b[1m40s\u001b[0m 245ms/step - AUC: 0.5033 - Accuracy: 0.5040 - Precision: 0.5049 - Recall: 0.5074 - loss: 1.5634 - val_AUC: 0.5606 - val_Accuracy: 0.5057 - val_Precision: 0.6159 - val_Recall: 0.0710 - val_loss: 0.7127\n",
      "Epoch 2/50\n",
      "\u001b[1m135/135\u001b[0m \u001b[32m━━━━━━━━━━━━━━━━━━━━\u001b[0m\u001b[37m\u001b[0m \u001b[1m34s\u001b[0m 248ms/step - AUC: 0.5571 - Accuracy: 0.5391 - Precision: 0.5417 - Recall: 0.5630 - loss: 0.6996 - val_AUC: 0.6730 - val_Accuracy: 0.6481 - val_Precision: 0.8956 - val_Recall: 0.3476 - val_loss: 0.6745\n",
      "Epoch 3/50\n",
      "\u001b[1m135/135\u001b[0m \u001b[32m━━━━━━━━━━━━━━━━━━━━\u001b[0m\u001b[37m\u001b[0m \u001b[1m35s\u001b[0m 262ms/step - AUC: 0.6598 - Accuracy: 0.6399 - Precision: 0.7624 - Recall: 0.4105 - loss: 0.6425 - val_AUC: 0.6790 - val_Accuracy: 0.6525 - val_Precision: 0.8942 - val_Recall: 0.3582 - val_loss: 0.6528\n",
      "Epoch 4/50\n",
      "\u001b[1m135/135\u001b[0m \u001b[32m━━━━━━━━━━━━━━━━━━━━\u001b[0m\u001b[37m\u001b[0m \u001b[1m36s\u001b[0m 267ms/step - AUC: 0.6528 - Accuracy: 0.6404 - Precision: 0.7925 - Recall: 0.3826 - loss: 0.6349 - val_AUC: 0.6783 - val_Accuracy: 0.6527 - val_Precision: 0.8943 - val_Recall: 0.3586 - val_loss: 0.6455\n",
      "Epoch 5/50\n",
      "\u001b[1m135/135\u001b[0m \u001b[32m━━━━━━━━━━━━━━━━━━━━\u001b[0m\u001b[37m\u001b[0m \u001b[1m33s\u001b[0m 241ms/step - AUC: 0.6616 - Accuracy: 0.6486 - Precision: 0.8215 - Recall: 0.3773 - loss: 0.6277 - val_AUC: 0.6784 - val_Accuracy: 0.6525 - val_Precision: 0.8942 - val_Recall: 0.3582 - val_loss: 0.6378\n",
      "Epoch 6/50\n",
      "\u001b[1m135/135\u001b[0m \u001b[32m━━━━━━━━━━━━━━━━━━━━\u001b[0m\u001b[37m\u001b[0m \u001b[1m33s\u001b[0m 247ms/step - AUC: 0.6658 - Accuracy: 0.6545 - Precision: 0.8438 - Recall: 0.3783 - loss: 0.6226 - val_AUC: 0.6795 - val_Accuracy: 0.6532 - val_Precision: 0.8945 - val_Recall: 0.3596 - val_loss: 0.6212\n",
      "Epoch 7/50\n",
      "\u001b[1m135/135\u001b[0m \u001b[32m━━━━━━━━━━━━━━━━━━━━\u001b[0m\u001b[37m\u001b[0m \u001b[1m34s\u001b[0m 250ms/step - AUC: 0.6702 - Accuracy: 0.6533 - Precision: 0.8418 - Recall: 0.3769 - loss: 0.6213 - val_AUC: 0.6724 - val_Accuracy: 0.6522 - val_Precision: 0.8940 - val_Recall: 0.3575 - val_loss: 0.6271\n",
      "Epoch 8/50\n",
      "\u001b[1m135/135\u001b[0m \u001b[32m━━━━━━━━━━━━━━━━━━━━\u001b[0m\u001b[37m\u001b[0m \u001b[1m33s\u001b[0m 247ms/step - AUC: 0.6605 - Accuracy: 0.6505 - Precision: 0.8562 - Recall: 0.3588 - loss: 0.6215 - val_AUC: 0.6779 - val_Accuracy: 0.6532 - val_Precision: 0.8959 - val_Recall: 0.3589 - val_loss: 0.6233\n",
      "Epoch 9/50\n",
      "\u001b[1m135/135\u001b[0m \u001b[32m━━━━━━━━━━━━━━━━━━━━\u001b[0m\u001b[37m\u001b[0m \u001b[1m33s\u001b[0m 241ms/step - AUC: 0.6587 - Accuracy: 0.6448 - Precision: 0.8472 - Recall: 0.3614 - loss: 0.6218 - val_AUC: 0.6786 - val_Accuracy: 0.6507 - val_Precision: 0.9062 - val_Recall: 0.3483 - val_loss: 0.6346\n",
      "Epoch 10/50\n",
      "\u001b[1m135/135\u001b[0m \u001b[32m━━━━━━━━━━━━━━━━━━━━\u001b[0m\u001b[37m\u001b[0m \u001b[1m33s\u001b[0m 243ms/step - AUC: 0.6697 - Accuracy: 0.6522 - Precision: 0.8569 - Recall: 0.3677 - loss: 0.6165 - val_AUC: 0.6776 - val_Accuracy: 0.6537 - val_Precision: 0.8948 - val_Recall: 0.3605 - val_loss: 0.6161\n",
      "Epoch 11/50\n",
      "\u001b[1m135/135\u001b[0m \u001b[32m━━━━━━━━━━━━━━━━━━━━\u001b[0m\u001b[37m\u001b[0m \u001b[1m34s\u001b[0m 252ms/step - AUC: 0.6611 - Accuracy: 0.6510 - Precision: 0.8511 - Recall: 0.3673 - loss: 0.6200 - val_AUC: 0.6787 - val_Accuracy: 0.6541 - val_Precision: 0.8945 - val_Recall: 0.3614 - val_loss: 0.6121\n",
      "Epoch 12/50\n",
      "\u001b[1m135/135\u001b[0m \u001b[32m━━━━━━━━━━━━━━━━━━━━\u001b[0m\u001b[37m\u001b[0m \u001b[1m33s\u001b[0m 245ms/step - AUC: 0.6601 - Accuracy: 0.6514 - Precision: 0.8608 - Recall: 0.3622 - loss: 0.6179 - val_AUC: 0.6787 - val_Accuracy: 0.6542 - val_Precision: 0.8950 - val_Recall: 0.3614 - val_loss: 0.6105\n",
      "Epoch 13/50\n",
      "\u001b[1m135/135\u001b[0m \u001b[32m━━━━━━━━━━━━━━━━━━━━\u001b[0m\u001b[37m\u001b[0m \u001b[1m34s\u001b[0m 249ms/step - AUC: 0.6604 - Accuracy: 0.6541 - Precision: 0.8699 - Recall: 0.3567 - loss: 0.6171 - val_AUC: 0.6777 - val_Accuracy: 0.6542 - val_Precision: 0.8950 - val_Recall: 0.3614 - val_loss: 0.6110\n",
      "Epoch 14/50\n",
      "\u001b[1m135/135\u001b[0m \u001b[32m━━━━━━━━━━━━━━━━━━━━\u001b[0m\u001b[37m\u001b[0m \u001b[1m33s\u001b[0m 243ms/step - AUC: 0.6705 - Accuracy: 0.6556 - Precision: 0.8584 - Recall: 0.3700 - loss: 0.6144 - val_AUC: 0.6765 - val_Accuracy: 0.6538 - val_Precision: 0.8976 - val_Recall: 0.3593 - val_loss: 0.6150\n",
      "Epoch 15/50\n",
      "\u001b[1m135/135\u001b[0m \u001b[32m━━━━━━━━━━━━━━━━━━━━\u001b[0m\u001b[37m\u001b[0m \u001b[1m34s\u001b[0m 251ms/step - AUC: 0.6607 - Accuracy: 0.6496 - Precision: 0.8592 - Recall: 0.3595 - loss: 0.6186 - val_AUC: 0.6771 - val_Accuracy: 0.6533 - val_Precision: 0.9026 - val_Recall: 0.3558 - val_loss: 0.6153\n",
      "Epoch 16/50\n",
      "\u001b[1m135/135\u001b[0m \u001b[32m━━━━━━━━━━━━━━━━━━━━\u001b[0m\u001b[37m\u001b[0m \u001b[1m33s\u001b[0m 247ms/step - AUC: 0.6712 - Accuracy: 0.6584 - Precision: 0.8688 - Recall: 0.3688 - loss: 0.6147 - val_AUC: 0.6770 - val_Accuracy: 0.6547 - val_Precision: 0.8948 - val_Recall: 0.3626 - val_loss: 0.6082\n",
      "Epoch 17/50\n",
      "\u001b[1m135/135\u001b[0m \u001b[32m━━━━━━━━━━━━━━━━━━━━\u001b[0m\u001b[37m\u001b[0m \u001b[1m33s\u001b[0m 247ms/step - AUC: 0.6676 - Accuracy: 0.6563 - Precision: 0.8781 - Recall: 0.3652 - loss: 0.6120 - val_AUC: 0.6762 - val_Accuracy: 0.6545 - val_Precision: 0.8947 - val_Recall: 0.3624 - val_loss: 0.6088\n",
      "Epoch 18/50\n",
      "\u001b[1m135/135\u001b[0m \u001b[32m━━━━━━━━━━━━━━━━━━━━\u001b[0m\u001b[37m\u001b[0m \u001b[1m35s\u001b[0m 256ms/step - AUC: 0.6684 - Accuracy: 0.6535 - Precision: 0.8694 - Recall: 0.3666 - loss: 0.6106 - val_AUC: 0.6796 - val_Accuracy: 0.6551 - val_Precision: 0.8946 - val_Recall: 0.3638 - val_loss: 0.6090\n",
      "Epoch 19/50\n",
      "\u001b[1m135/135\u001b[0m \u001b[32m━━━━━━━━━━━━━━━━━━━━\u001b[0m\u001b[37m\u001b[0m \u001b[1m33s\u001b[0m 247ms/step - AUC: 0.6676 - Accuracy: 0.6514 - Precision: 0.8495 - Recall: 0.3739 - loss: 0.6136 - val_AUC: 0.6794 - val_Accuracy: 0.6543 - val_Precision: 0.8960 - val_Recall: 0.3612 - val_loss: 0.6093\n",
      "Epoch 20/50\n",
      "\u001b[1m135/135\u001b[0m \u001b[32m━━━━━━━━━━━━━━━━━━━━\u001b[0m\u001b[37m\u001b[0m \u001b[1m32s\u001b[0m 240ms/step - AUC: 0.6633 - Accuracy: 0.6566 - Precision: 0.8695 - Recall: 0.3660 - loss: 0.6116 - val_AUC: 0.6774 - val_Accuracy: 0.6558 - val_Precision: 0.8968 - val_Recall: 0.3643 - val_loss: 0.6068\n",
      "Epoch 21/50\n",
      "\u001b[1m135/135\u001b[0m \u001b[32m━━━━━━━━━━━━━━━━━━━━\u001b[0m\u001b[37m\u001b[0m \u001b[1m33s\u001b[0m 247ms/step - AUC: 0.6622 - Accuracy: 0.6517 - Precision: 0.8691 - Recall: 0.3612 - loss: 0.6130 - val_AUC: 0.6760 - val_Accuracy: 0.6554 - val_Precision: 0.8943 - val_Recall: 0.3645 - val_loss: 0.6066\n",
      "Epoch 22/50\n",
      "\u001b[1m135/135\u001b[0m \u001b[32m━━━━━━━━━━━━━━━━━━━━\u001b[0m\u001b[37m\u001b[0m \u001b[1m33s\u001b[0m 241ms/step - AUC: 0.6723 - Accuracy: 0.6566 - Precision: 0.8748 - Recall: 0.3676 - loss: 0.6105 - val_AUC: 0.6785 - val_Accuracy: 0.6552 - val_Precision: 0.8946 - val_Recall: 0.3640 - val_loss: 0.6070\n",
      "Epoch 23/50\n",
      "\u001b[1m135/135\u001b[0m \u001b[32m━━━━━━━━━━━━━━━━━━━━\u001b[0m\u001b[37m\u001b[0m \u001b[1m34s\u001b[0m 255ms/step - AUC: 0.6637 - Accuracy: 0.6535 - Precision: 0.8754 - Recall: 0.3604 - loss: 0.6123 - val_AUC: 0.6760 - val_Accuracy: 0.6543 - val_Precision: 0.8969 - val_Recall: 0.3607 - val_loss: 0.6084\n",
      "Epoch 24/50\n",
      "\u001b[1m135/135\u001b[0m \u001b[32m━━━━━━━━━━━━━━━━━━━━\u001b[0m\u001b[37m\u001b[0m \u001b[1m33s\u001b[0m 245ms/step - AUC: 0.6604 - Accuracy: 0.6497 - Precision: 0.8831 - Recall: 0.3557 - loss: 0.6138 - val_AUC: 0.6768 - val_Accuracy: 0.6523 - val_Precision: 0.9134 - val_Recall: 0.3483 - val_loss: 0.6147\n",
      "Epoch 25/50\n",
      "\u001b[1m135/135\u001b[0m \u001b[32m━━━━━━━━━━━━━━━━━━━━\u001b[0m\u001b[37m\u001b[0m \u001b[1m33s\u001b[0m 245ms/step - AUC: 0.6686 - Accuracy: 0.6492 - Precision: 0.8511 - Recall: 0.3576 - loss: 0.6150 - val_AUC: 0.6713 - val_Accuracy: 0.6555 - val_Precision: 0.8939 - val_Recall: 0.3650 - val_loss: 0.6063\n",
      "Epoch 26/50\n",
      "\u001b[1m135/135\u001b[0m \u001b[32m━━━━━━━━━━━━━━━━━━━━\u001b[0m\u001b[37m\u001b[0m \u001b[1m34s\u001b[0m 249ms/step - AUC: 0.6705 - Accuracy: 0.6559 - Precision: 0.8775 - Recall: 0.3592 - loss: 0.6107 - val_AUC: 0.6776 - val_Accuracy: 0.6541 - val_Precision: 0.9015 - val_Recall: 0.3579 - val_loss: 0.6085\n",
      "Epoch 27/50\n",
      "\u001b[1m135/135\u001b[0m \u001b[32m━━━━━━━━━━━━━━━━━━━━\u001b[0m\u001b[37m\u001b[0m \u001b[1m33s\u001b[0m 241ms/step - AUC: 0.6633 - Accuracy: 0.6476 - Precision: 0.8683 - Recall: 0.3561 - loss: 0.6161 - val_AUC: 0.6757 - val_Accuracy: 0.6545 - val_Precision: 0.9027 - val_Recall: 0.3584 - val_loss: 0.6078\n",
      "Epoch 28/50\n",
      "\u001b[1m135/135\u001b[0m \u001b[32m━━━━━━━━━━━━━━━━━━━━\u001b[0m\u001b[37m\u001b[0m \u001b[1m33s\u001b[0m 246ms/step - AUC: 0.6636 - Accuracy: 0.6549 - Precision: 0.8726 - Recall: 0.3588 - loss: 0.6109 - val_AUC: 0.6776 - val_Accuracy: 0.6557 - val_Precision: 0.8963 - val_Recall: 0.3643 - val_loss: 0.6055\n",
      "Epoch 29/50\n",
      "\u001b[1m135/135\u001b[0m \u001b[32m━━━━━━━━━━━━━━━━━━━━\u001b[0m\u001b[37m\u001b[0m \u001b[1m33s\u001b[0m 243ms/step - AUC: 0.6608 - Accuracy: 0.6506 - Precision: 0.8720 - Recall: 0.3518 - loss: 0.6129 - val_AUC: 0.6753 - val_Accuracy: 0.6547 - val_Precision: 0.8999 - val_Recall: 0.3600 - val_loss: 0.6070\n",
      "Epoch 30/50\n",
      "\u001b[1m135/135\u001b[0m \u001b[32m━━━━━━━━━━━━━━━━━━━━\u001b[0m\u001b[37m\u001b[0m \u001b[1m33s\u001b[0m 244ms/step - AUC: 0.6671 - Accuracy: 0.6541 - Precision: 0.8761 - Recall: 0.3630 - loss: 0.6114 - val_AUC: 0.6785 - val_Accuracy: 0.6539 - val_Precision: 0.9024 - val_Recall: 0.3572 - val_loss: 0.6062\n",
      "Epoch 31/50\n",
      "\u001b[1m135/135\u001b[0m \u001b[32m━━━━━━━━━━━━━━━━━━━━\u001b[0m\u001b[37m\u001b[0m \u001b[1m33s\u001b[0m 241ms/step - AUC: 0.6650 - Accuracy: 0.6535 - Precision: 0.8733 - Recall: 0.3568 - loss: 0.6128 - val_AUC: 0.6776 - val_Accuracy: 0.6555 - val_Precision: 0.8971 - val_Recall: 0.3633 - val_loss: 0.6060\n",
      "Epoch 32/50\n",
      "\u001b[1m135/135\u001b[0m \u001b[32m━━━━━━━━━━━━━━━━━━━━\u001b[0m\u001b[37m\u001b[0m \u001b[1m33s\u001b[0m 246ms/step - AUC: 0.6639 - Accuracy: 0.6560 - Precision: 0.8686 - Recall: 0.3614 - loss: 0.6114 - val_AUC: 0.6779 - val_Accuracy: 0.6529 - val_Precision: 0.9096 - val_Recall: 0.3514 - val_loss: 0.6089\n",
      "Epoch 33/50\n",
      "\u001b[1m135/135\u001b[0m \u001b[32m━━━━━━━━━━━━━━━━━━━━\u001b[0m\u001b[37m\u001b[0m \u001b[1m35s\u001b[0m 257ms/step - AUC: 0.6689 - Accuracy: 0.6580 - Precision: 0.8853 - Recall: 0.3588 - loss: 0.6091 - val_AUC: 0.6768 - val_Accuracy: 0.6548 - val_Precision: 0.9028 - val_Recall: 0.3589 - val_loss: 0.6050\n",
      "Epoch 34/50\n",
      "\u001b[1m135/135\u001b[0m \u001b[32m━━━━━━━━━━━━━━━━━━━━\u001b[0m\u001b[37m\u001b[0m \u001b[1m34s\u001b[0m 250ms/step - AUC: 0.6645 - Accuracy: 0.6530 - Precision: 0.8920 - Recall: 0.3526 - loss: 0.6091 - val_AUC: 0.6787 - val_Accuracy: 0.6539 - val_Precision: 0.9014 - val_Recall: 0.3577 - val_loss: 0.6066\n",
      "Epoch 35/50\n",
      "\u001b[1m135/135\u001b[0m \u001b[32m━━━━━━━━━━━━━━━━━━━━\u001b[0m\u001b[37m\u001b[0m \u001b[1m33s\u001b[0m 242ms/step - AUC: 0.6668 - Accuracy: 0.6562 - Precision: 0.8787 - Recall: 0.3560 - loss: 0.6087 - val_AUC: 0.6743 - val_Accuracy: 0.6555 - val_Precision: 0.8971 - val_Recall: 0.3633 - val_loss: 0.6044\n",
      "Epoch 36/50\n",
      "\u001b[1m135/135\u001b[0m \u001b[32m━━━━━━━━━━━━━━━━━━━━\u001b[0m\u001b[37m\u001b[0m \u001b[1m33s\u001b[0m 243ms/step - AUC: 0.6540 - Accuracy: 0.6509 - Precision: 0.8768 - Recall: 0.3517 - loss: 0.6134 - val_AUC: 0.6754 - val_Accuracy: 0.6549 - val_Precision: 0.9038 - val_Recall: 0.3586 - val_loss: 0.6043\n",
      "Epoch 37/50\n",
      "\u001b[1m135/135\u001b[0m \u001b[32m━━━━━━━━━━━━━━━━━━━━\u001b[0m\u001b[37m\u001b[0m \u001b[1m32s\u001b[0m 239ms/step - AUC: 0.6663 - Accuracy: 0.6531 - Precision: 0.8795 - Recall: 0.3530 - loss: 0.6110 - val_AUC: 0.6742 - val_Accuracy: 0.6522 - val_Precision: 0.9103 - val_Recall: 0.3495 - val_loss: 0.6102\n",
      "Epoch 38/50\n",
      "\u001b[1m135/135\u001b[0m \u001b[32m━━━━━━━━━━━━━━━━━━━━\u001b[0m\u001b[37m\u001b[0m \u001b[1m33s\u001b[0m 246ms/step - AUC: 0.6608 - Accuracy: 0.6592 - Precision: 0.8853 - Recall: 0.3596 - loss: 0.6090 - val_AUC: 0.6752 - val_Accuracy: 0.6558 - val_Precision: 0.8959 - val_Recall: 0.3647 - val_loss: 0.6057\n",
      "Epoch 39/50\n",
      "\u001b[1m135/135\u001b[0m \u001b[32m━━━━━━━━━━━━━━━━━━━━\u001b[0m\u001b[37m\u001b[0m \u001b[1m35s\u001b[0m 256ms/step - AUC: 0.6662 - Accuracy: 0.6509 - Precision: 0.8516 - Recall: 0.3644 - loss: 0.6127 - val_AUC: 0.6769 - val_Accuracy: 0.6556 - val_Precision: 0.9027 - val_Recall: 0.3607 - val_loss: 0.6045\n",
      "Epoch 40/50\n",
      "\u001b[1m135/135\u001b[0m \u001b[32m━━━━━━━━━━━━━━━━━━━━\u001b[0m\u001b[37m\u001b[0m \u001b[1m33s\u001b[0m 248ms/step - AUC: 0.6605 - Accuracy: 0.6538 - Precision: 0.8793 - Recall: 0.3543 - loss: 0.6119 - val_AUC: 0.6766 - val_Accuracy: 0.6555 - val_Precision: 0.8961 - val_Recall: 0.3638 - val_loss: 0.6041\n",
      "Epoch 41/50\n",
      "\u001b[1m135/135\u001b[0m \u001b[32m━━━━━━━━━━━━━━━━━━━━\u001b[0m\u001b[37m\u001b[0m \u001b[1m33s\u001b[0m 240ms/step - AUC: 0.6643 - Accuracy: 0.6523 - Precision: 0.8773 - Recall: 0.3582 - loss: 0.6101 - val_AUC: 0.6763 - val_Accuracy: 0.6555 - val_Precision: 0.8971 - val_Recall: 0.3633 - val_loss: 0.6047\n",
      "Epoch 42/50\n",
      "\u001b[1m135/135\u001b[0m \u001b[32m━━━━━━━━━━━━━━━━━━━━\u001b[0m\u001b[37m\u001b[0m \u001b[1m33s\u001b[0m 248ms/step - AUC: 0.6697 - Accuracy: 0.6549 - Precision: 0.8819 - Recall: 0.3592 - loss: 0.6062 - val_AUC: 0.6775 - val_Accuracy: 0.6550 - val_Precision: 0.9034 - val_Recall: 0.3591 - val_loss: 0.6045\n",
      "Epoch 43/50\n",
      "\u001b[1m135/135\u001b[0m \u001b[32m━━━━━━━━━━━━━━━━━━━━\u001b[0m\u001b[37m\u001b[0m \u001b[1m33s\u001b[0m 242ms/step - AUC: 0.6698 - Accuracy: 0.6594 - Precision: 0.8746 - Recall: 0.3679 - loss: 0.6058 - val_AUC: 0.6779 - val_Accuracy: 0.6554 - val_Precision: 0.8979 - val_Recall: 0.3626 - val_loss: 0.6040\n",
      "Epoch 44/50\n",
      "\u001b[1m135/135\u001b[0m \u001b[32m━━━━━━━━━━━━━━━━━━━━\u001b[0m\u001b[37m\u001b[0m \u001b[1m32s\u001b[0m 237ms/step - AUC: 0.6600 - Accuracy: 0.6522 - Precision: 0.8862 - Recall: 0.3534 - loss: 0.6110 - val_AUC: 0.6745 - val_Accuracy: 0.6543 - val_Precision: 0.9045 - val_Recall: 0.3570 - val_loss: 0.6052\n",
      "Epoch 45/50\n",
      "\u001b[1m135/135\u001b[0m \u001b[32m━━━━━━━━━━━━━━━━━━━━\u001b[0m\u001b[37m\u001b[0m \u001b[1m33s\u001b[0m 242ms/step - AUC: 0.6676 - Accuracy: 0.6591 - Precision: 0.8882 - Recall: 0.3592 - loss: 0.6061 - val_AUC: 0.6757 - val_Accuracy: 0.6557 - val_Precision: 0.8972 - val_Recall: 0.3638 - val_loss: 0.6031\n",
      "Epoch 46/50\n",
      "\u001b[1m135/135\u001b[0m \u001b[32m━━━━━━━━━━━━━━━━━━━━\u001b[0m\u001b[37m\u001b[0m \u001b[1m33s\u001b[0m 243ms/step - AUC: 0.6688 - Accuracy: 0.6551 - Precision: 0.8686 - Recall: 0.3649 - loss: 0.6089 - val_AUC: 0.6786 - val_Accuracy: 0.6557 - val_Precision: 0.9037 - val_Recall: 0.3605 - val_loss: 0.6036\n",
      "Epoch 47/50\n",
      "\u001b[1m135/135\u001b[0m \u001b[32m━━━━━━━━━━━━━━━━━━━━\u001b[0m\u001b[37m\u001b[0m \u001b[1m32s\u001b[0m 239ms/step - AUC: 0.6603 - Accuracy: 0.6528 - Precision: 0.8834 - Recall: 0.3576 - loss: 0.6079 - val_AUC: 0.6768 - val_Accuracy: 0.6556 - val_Precision: 0.8953 - val_Recall: 0.3645 - val_loss: 0.6053\n",
      "Epoch 48/50\n",
      "\u001b[1m135/135\u001b[0m \u001b[32m━━━━━━━━━━━━━━━━━━━━\u001b[0m\u001b[37m\u001b[0m \u001b[1m32s\u001b[0m 235ms/step - AUC: 0.6663 - Accuracy: 0.6552 - Precision: 0.8683 - Recall: 0.3584 - loss: 0.6101 - val_AUC: 0.6757 - val_Accuracy: 0.6554 - val_Precision: 0.8956 - val_Recall: 0.3638 - val_loss: 0.6040\n",
      "Epoch 49/50\n",
      "\u001b[1m135/135\u001b[0m \u001b[32m━━━━━━━━━━━━━━━━━━━━\u001b[0m\u001b[37m\u001b[0m \u001b[1m31s\u001b[0m 231ms/step - AUC: 0.6619 - Accuracy: 0.6563 - Precision: 0.8770 - Recall: 0.3610 - loss: 0.6089 - val_AUC: 0.6788 - val_Accuracy: 0.6544 - val_Precision: 0.9040 - val_Recall: 0.3575 - val_loss: 0.6048\n",
      "Epoch 50/50\n",
      "\u001b[1m135/135\u001b[0m \u001b[32m━━━━━━━━━━━━━━━━━━━━\u001b[0m\u001b[37m\u001b[0m \u001b[1m32s\u001b[0m 237ms/step - AUC: 0.6611 - Accuracy: 0.6563 - Precision: 0.8915 - Recall: 0.3553 - loss: 0.6064 - val_AUC: 0.6780 - val_Accuracy: 0.6552 - val_Precision: 0.9035 - val_Recall: 0.3596 - val_loss: 0.6023\n"
     ]
    },
    {
     "data": {
      "text/plain": [
       "<keras.src.callbacks.history.History at 0x2efdecbf0>"
      ]
     },
     "execution_count": 177,
     "metadata": {},
     "output_type": "execute_result"
    }
   ],
   "source": [
    "early_stop = tf.keras.callbacks.EarlyStopping(\n",
    "    monitor=\"val_loss\",\n",
    "    patience=10,\n",
    "    restore_best_weights=True,\n",
    ")\n",
    "\n",
    "clf.fit(\n",
    "    x_train_orig,\n",
    "    y_train_orig,\n",
    "    epochs=50,\n",
    "    batch_size=250,\n",
    "    validation_split=0.2,\n",
    "    callbacks=[early_stop]\n",
    ")"
   ]
  },
  {
   "cell_type": "code",
   "execution_count": 181,
   "id": "c2399890",
   "metadata": {},
   "outputs": [
    {
     "name": "stdout",
     "output_type": "stream",
     "text": [
      "\u001b[1m329/329\u001b[0m \u001b[32m━━━━━━━━━━━━━━━━━━━━\u001b[0m\u001b[37m\u001b[0m \u001b[1m3s\u001b[0m 10ms/step - AUC: 0.6612 - Accuracy: 0.6569 - Precision: 0.8826 - Recall: 0.3494 - loss: 0.6109\n"
     ]
    },
    {
     "data": {
      "text/plain": [
       "[0.6044131517410278,\n",
       " 0.6714734435081482,\n",
       " 0.6614008545875549,\n",
       " 0.891566276550293,\n",
       " 0.35693612694740295]"
      ]
     },
     "execution_count": 181,
     "metadata": {},
     "output_type": "execute_result"
    }
   ],
   "source": [
    "clf.evaluate(x_test_orig,y_test_orig)"
   ]
  },
  {
   "cell_type": "code",
   "execution_count": 182,
   "id": "7ab17c56",
   "metadata": {},
   "outputs": [
    {
     "name": "stdout",
     "output_type": "stream",
     "text": [
      "\u001b[1m329/329\u001b[0m \u001b[32m━━━━━━━━━━━━━━━━━━━━\u001b[0m\u001b[37m\u001b[0m \u001b[1m3s\u001b[0m 11ms/step\n"
     ]
    },
    {
     "data": {
      "text/plain": [
       "3558"
      ]
     },
     "execution_count": 182,
     "metadata": {},
     "output_type": "execute_result"
    }
   ],
   "source": [
    "preds = clf.predict(x_test_orig)\n",
    "binary_predictions = [1 if pred>0.5 else 0 for pred in preds]\n",
    "(binary_predictions!=y_test_orig).sum()"
   ]
  },
  {
   "cell_type": "code",
   "execution_count": 183,
   "id": "45121c61",
   "metadata": {},
   "outputs": [
    {
     "data": {
      "text/plain": [
       "10508"
      ]
     },
     "execution_count": 183,
     "metadata": {},
     "output_type": "execute_result"
    }
   ],
   "source": [
    "len(preds)"
   ]
  },
  {
   "cell_type": "markdown",
   "id": "19ee923a",
   "metadata": {},
   "source": [
    "Now, try the more difficult thing where you \"mislabel\" the charm quarks as up quarks"
   ]
  },
  {
   "cell_type": "code",
   "execution_count": 36,
   "id": "f2d6e09f",
   "metadata": {},
   "outputs": [
    {
     "name": "stdout",
     "output_type": "stream",
     "text": [
      "Epoch 1/50\n",
      "\u001b[1m50/50\u001b[0m \u001b[32m━━━━━━━━━━━━━━━━━━━━\u001b[0m\u001b[37m\u001b[0m \u001b[1m7s\u001b[0m 76ms/step - AUC: 0.5755 - Accuracy: 0.5555 - Precision: 0.5602 - Recall: 0.5348 - loss: 0.9910 - val_AUC: 0.9531 - val_Accuracy: 0.8774 - val_Precision: 0.9101 - val_Recall: 0.8328 - val_loss: 0.3812\n",
      "Epoch 2/50\n",
      "\u001b[1m50/50\u001b[0m \u001b[32m━━━━━━━━━━━━━━━━━━━━\u001b[0m\u001b[37m\u001b[0m \u001b[1m3s\u001b[0m 69ms/step - AUC: 0.9358 - Accuracy: 0.8915 - Precision: 0.8625 - Recall: 0.9301 - loss: 0.3592 - val_AUC: 0.9584 - val_Accuracy: 0.9397 - val_Precision: 0.8935 - val_Recall: 0.9960 - val_loss: 0.2616\n",
      "Epoch 3/50\n",
      "\u001b[1m50/50\u001b[0m \u001b[32m━━━━━━━━━━━━━━━━━━━━\u001b[0m\u001b[37m\u001b[0m \u001b[1m4s\u001b[0m 83ms/step - AUC: 0.9509 - Accuracy: 0.9291 - Precision: 0.8864 - Recall: 0.9849 - loss: 0.2797 - val_AUC: 0.9618 - val_Accuracy: 0.9410 - val_Precision: 0.8928 - val_Recall: 1.0000 - val_loss: 0.2408\n",
      "Epoch 4/50\n",
      "\u001b[1m50/50\u001b[0m \u001b[32m━━━━━━━━━━━━━━━━━━━━\u001b[0m\u001b[37m\u001b[0m \u001b[1m4s\u001b[0m 77ms/step - AUC: 0.9565 - Accuracy: 0.9337 - Precision: 0.8896 - Recall: 0.9905 - loss: 0.2533 - val_AUC: 0.9657 - val_Accuracy: 0.9413 - val_Precision: 0.8933 - val_Recall: 1.0000 - val_loss: 0.2380\n",
      "Epoch 5/50\n",
      "\u001b[1m50/50\u001b[0m \u001b[32m━━━━━━━━━━━━━━━━━━━━\u001b[0m\u001b[37m\u001b[0m \u001b[1m4s\u001b[0m 78ms/step - AUC: 0.9546 - Accuracy: 0.9348 - Precision: 0.8929 - Recall: 0.9908 - loss: 0.2458 - val_AUC: 0.9694 - val_Accuracy: 0.9400 - val_Precision: 0.8930 - val_Recall: 0.9973 - val_loss: 0.2239\n",
      "Epoch 6/50\n",
      "\u001b[1m50/50\u001b[0m \u001b[32m━━━━━━━━━━━━━━━━━━━━\u001b[0m\u001b[37m\u001b[0m \u001b[1m4s\u001b[0m 78ms/step - AUC: 0.9601 - Accuracy: 0.9339 - Precision: 0.8889 - Recall: 0.9928 - loss: 0.2341 - val_AUC: 0.9706 - val_Accuracy: 0.9416 - val_Precision: 0.8938 - val_Recall: 1.0000 - val_loss: 0.2091\n",
      "Epoch 7/50\n",
      "\u001b[1m50/50\u001b[0m \u001b[32m━━━━━━━━━━━━━━━━━━━━\u001b[0m\u001b[37m\u001b[0m \u001b[1m4s\u001b[0m 80ms/step - AUC: 0.9617 - Accuracy: 0.9359 - Precision: 0.8949 - Recall: 0.9902 - loss: 0.2254 - val_AUC: 0.9695 - val_Accuracy: 0.9416 - val_Precision: 0.8938 - val_Recall: 1.0000 - val_loss: 0.2124\n",
      "Epoch 8/50\n",
      "\u001b[1m50/50\u001b[0m \u001b[32m━━━━━━━━━━━━━━━━━━━━\u001b[0m\u001b[37m\u001b[0m \u001b[1m4s\u001b[0m 84ms/step - AUC: 0.9634 - Accuracy: 0.9414 - Precision: 0.9008 - Recall: 0.9934 - loss: 0.2100 - val_AUC: 0.9704 - val_Accuracy: 0.9429 - val_Precision: 0.8960 - val_Recall: 1.0000 - val_loss: 0.1987\n",
      "Epoch 9/50\n",
      "\u001b[1m50/50\u001b[0m \u001b[32m━━━━━━━━━━━━━━━━━━━━\u001b[0m\u001b[37m\u001b[0m \u001b[1m4s\u001b[0m 86ms/step - AUC: 0.9659 - Accuracy: 0.9411 - Precision: 0.8991 - Recall: 0.9932 - loss: 0.2044 - val_AUC: 0.9702 - val_Accuracy: 0.9429 - val_Precision: 0.8960 - val_Recall: 1.0000 - val_loss: 0.2083\n",
      "Epoch 10/50\n",
      "\u001b[1m50/50\u001b[0m \u001b[32m━━━━━━━━━━━━━━━━━━━━\u001b[0m\u001b[37m\u001b[0m \u001b[1m4s\u001b[0m 79ms/step - AUC: 0.9619 - Accuracy: 0.9419 - Precision: 0.9023 - Recall: 0.9941 - loss: 0.2081 - val_AUC: 0.9705 - val_Accuracy: 0.9429 - val_Precision: 0.8960 - val_Recall: 1.0000 - val_loss: 0.1994\n"
     ]
    },
    {
     "data": {
      "text/plain": [
       "<keras.src.callbacks.history.History at 0x2edb5f800>"
      ]
     },
     "execution_count": 36,
     "metadata": {},
     "output_type": "execute_result"
    }
   ],
   "source": [
    "del clf\n",
    "clf = get_clf(dropout=0.2,shape=x_train_light.shape[1:])\n",
    "clf.compile(optimizer=\"adam\", loss=loss_fn, metrics=[\"Accuracy\", \"AUC\", \"Precision\", \"Recall\"])\n",
    "\n",
    "clf.fit(\n",
    "    x_train_light,\n",
    "    y_train_light,\n",
    "    epochs=50,\n",
    "    batch_size=250,\n",
    "    validation_split=0.2,\n",
    "    callbacks=[early_stop],\n",
    ")"
   ]
  },
  {
   "cell_type": "code",
   "execution_count": 37,
   "id": "fe42421d",
   "metadata": {},
   "outputs": [
    {
     "name": "stdout",
     "output_type": "stream",
     "text": [
      "\u001b[1m120/120\u001b[0m \u001b[32m━━━━━━━━━━━━━━━━━━━━\u001b[0m\u001b[37m\u001b[0m \u001b[1m1s\u001b[0m 4ms/step - AUC: 0.9560 - Accuracy: 0.8786 - Precision: 0.9102 - Recall: 0.8321 - loss: 0.3460\n"
     ]
    },
    {
     "data": {
      "text/plain": [
       "[0.34794682264328003,\n",
       " 0.9572073221206665,\n",
       " 0.8745108246803284,\n",
       " 0.9062857031822205,\n",
       " 0.8334209322929382]"
      ]
     },
     "execution_count": 37,
     "metadata": {},
     "output_type": "execute_result"
    }
   ],
   "source": [
    "clf.evaluate(x_test_light,y_test_light)"
   ]
  },
  {
   "cell_type": "code",
   "execution_count": 38,
   "id": "49137813",
   "metadata": {},
   "outputs": [
    {
     "name": "stdout",
     "output_type": "stream",
     "text": [
      "\u001b[1m120/120\u001b[0m \u001b[32m━━━━━━━━━━━━━━━━━━━━\u001b[0m\u001b[37m\u001b[0m \u001b[1m1s\u001b[0m 5ms/step\n"
     ]
    },
    {
     "data": {
      "text/plain": [
       "481"
      ]
     },
     "execution_count": 38,
     "metadata": {},
     "output_type": "execute_result"
    }
   ],
   "source": [
    "preds = clf.predict(x_test_light)\n",
    "binary_predictions = [1 if pred>0.5 else 0 for pred in preds]\n",
    "(binary_predictions!=y_test_light).sum()"
   ]
  },
  {
   "cell_type": "code",
   "execution_count": 39,
   "id": "7f683abf",
   "metadata": {},
   "outputs": [
    {
     "name": "stdout",
     "output_type": "stream",
     "text": [
      "Epoch 1/50\n",
      "\u001b[1m50/50\u001b[0m \u001b[32m━━━━━━━━━━━━━━━━━━━━\u001b[0m\u001b[37m\u001b[0m \u001b[1m7s\u001b[0m 74ms/step - AUC: 0.5322 - Accuracy: 0.5288 - Precision: 0.5305 - Recall: 0.6157 - loss: 0.8156 - val_AUC: 0.6992 - val_Accuracy: 0.5549 - val_Precision: 0.5278 - val_Recall: 0.8932 - val_loss: 0.6815\n",
      "Epoch 2/50\n",
      "\u001b[1m50/50\u001b[0m \u001b[32m━━━━━━━━━━━━━━━━━━━━\u001b[0m\u001b[37m\u001b[0m \u001b[1m3s\u001b[0m 65ms/step - AUC: 0.6733 - Accuracy: 0.6269 - Precision: 0.6235 - Recall: 0.6649 - loss: 0.6638 - val_AUC: 0.7592 - val_Accuracy: 0.6720 - val_Precision: 0.6917 - val_Recall: 0.5999 - val_loss: 0.5887\n",
      "Epoch 3/50\n",
      "\u001b[1m50/50\u001b[0m \u001b[32m━━━━━━━━━━━━━━━━━━━━\u001b[0m\u001b[37m\u001b[0m \u001b[1m4s\u001b[0m 79ms/step - AUC: 0.7340 - Accuracy: 0.6654 - Precision: 0.6745 - Recall: 0.6701 - loss: 0.6175 - val_AUC: 0.7794 - val_Accuracy: 0.6896 - val_Precision: 0.6740 - val_Recall: 0.7133 - val_loss: 0.5657\n",
      "Epoch 4/50\n",
      "\u001b[1m50/50\u001b[0m \u001b[32m━━━━━━━━━━━━━━━━━━━━\u001b[0m\u001b[37m\u001b[0m \u001b[1m4s\u001b[0m 80ms/step - AUC: 0.7536 - Accuracy: 0.6720 - Precision: 0.6545 - Recall: 0.7350 - loss: 0.5976 - val_AUC: 0.7836 - val_Accuracy: 0.6916 - val_Precision: 0.7257 - val_Recall: 0.5985 - val_loss: 0.5741\n",
      "Epoch 5/50\n",
      "\u001b[1m50/50\u001b[0m \u001b[32m━━━━━━━━━━━━━━━━━━━━\u001b[0m\u001b[37m\u001b[0m \u001b[1m4s\u001b[0m 80ms/step - AUC: 0.7427 - Accuracy: 0.6691 - Precision: 0.6743 - Recall: 0.6650 - loss: 0.6073 - val_AUC: 0.7876 - val_Accuracy: 0.7004 - val_Precision: 0.6861 - val_Recall: 0.7193 - val_loss: 0.5558\n",
      "Epoch 6/50\n",
      "\u001b[1m50/50\u001b[0m \u001b[32m━━━━━━━━━━━━━━━━━━━━\u001b[0m\u001b[37m\u001b[0m \u001b[1m4s\u001b[0m 81ms/step - AUC: 0.7603 - Accuracy: 0.6816 - Precision: 0.6699 - Recall: 0.7191 - loss: 0.5890 - val_AUC: 0.7850 - val_Accuracy: 0.6916 - val_Precision: 0.6726 - val_Recall: 0.7253 - val_loss: 0.5535\n",
      "Epoch 7/50\n",
      "\u001b[1m50/50\u001b[0m \u001b[32m━━━━━━━━━━━━━━━━━━━━\u001b[0m\u001b[37m\u001b[0m \u001b[1m4s\u001b[0m 83ms/step - AUC: 0.7623 - Accuracy: 0.6830 - Precision: 0.6796 - Recall: 0.6879 - loss: 0.5866 - val_AUC: 0.7903 - val_Accuracy: 0.6929 - val_Precision: 0.6513 - val_Recall: 0.8069 - val_loss: 0.5556\n",
      "Epoch 8/50\n",
      "\u001b[1m50/50\u001b[0m \u001b[32m━━━━━━━━━━━━━━━━━━━━\u001b[0m\u001b[37m\u001b[0m \u001b[1m4s\u001b[0m 78ms/step - AUC: 0.7646 - Accuracy: 0.6835 - Precision: 0.6871 - Recall: 0.6867 - loss: 0.5847 - val_AUC: 0.7968 - val_Accuracy: 0.7026 - val_Precision: 0.7215 - val_Recall: 0.6430 - val_loss: 0.5448\n",
      "Epoch 9/50\n",
      "\u001b[1m50/50\u001b[0m \u001b[32m━━━━━━━━━━━━━━━━━━━━\u001b[0m\u001b[37m\u001b[0m \u001b[1m4s\u001b[0m 79ms/step - AUC: 0.7687 - Accuracy: 0.6851 - Precision: 0.6962 - Recall: 0.6589 - loss: 0.5790 - val_AUC: 0.7977 - val_Accuracy: 0.7030 - val_Precision: 0.6637 - val_Recall: 0.8016 - val_loss: 0.5441\n",
      "Epoch 10/50\n",
      "\u001b[1m50/50\u001b[0m \u001b[32m━━━━━━━━━━━━━━━━━━━━\u001b[0m\u001b[37m\u001b[0m \u001b[1m4s\u001b[0m 79ms/step - AUC: 0.7709 - Accuracy: 0.6948 - Precision: 0.6969 - Recall: 0.6970 - loss: 0.5787 - val_AUC: 0.8007 - val_Accuracy: 0.7049 - val_Precision: 0.7200 - val_Recall: 0.6536 - val_loss: 0.5414\n"
     ]
    },
    {
     "data": {
      "text/plain": [
       "<keras.src.callbacks.history.History at 0x2f69a4500>"
      ]
     },
     "execution_count": 39,
     "metadata": {},
     "output_type": "execute_result"
    }
   ],
   "source": [
    "del clf\n",
    "clf = get_clf(dropout=0.2,shape=x_train_gluon.shape[1:])\n",
    "clf.compile(optimizer=\"adam\", loss=loss_fn, metrics=[\"Accuracy\", \"AUC\", \"Precision\", \"Recall\"])\n",
    "\n",
    "clf.fit(\n",
    "    x_train_gluon,\n",
    "    y_train_gluon,\n",
    "    epochs=50,\n",
    "    batch_size=250,\n",
    "    validation_split=0.2,\n",
    "    callbacks=[early_stop],\n",
    ")"
   ]
  },
  {
   "cell_type": "markdown",
   "id": "fe5c0167",
   "metadata": {},
   "source": [
    "### Now take a look at boosted decision trees"
   ]
  },
  {
   "cell_type": "markdown",
   "id": "d09a8f81",
   "metadata": {},
   "source": [
    "For now, try the boosted decision tree where the features are the pt of all particles"
   ]
  },
  {
   "cell_type": "code",
   "execution_count": 28,
   "id": "1110fe1a",
   "metadata": {},
   "outputs": [],
   "source": [
    "train_shape = x_train_orig.shape\n",
    "test_shape = x_test_orig.shape\n",
    "x_train_0_bdt = np.reshape( x_train_orig,(train_shape[0],train_shape[1]*train_shape[4]) )\n",
    "x_test_0_bdt = np.reshape( x_test_orig,(test_shape[0],test_shape[1]*test_shape[4]) )"
   ]
  },
  {
   "cell_type": "code",
   "execution_count": 31,
   "id": "2ef77887",
   "metadata": {},
   "outputs": [],
   "source": [
    "from xgboost import XGBClassifier\n",
    "\n",
    "# create model instance\n",
    "bst = XGBClassifier(objective='binary:logistic', learning_rate = 0.1,\n",
    "              max_depth = 15, n_estimators = 50)\n",
    "# fit model\n",
    "bst.fit(x_train_0_bdt, y_train_orig)\n",
    "# make predictions\n",
    "preds = bst.predict(x_test_0_bdt)"
   ]
  },
  {
   "cell_type": "code",
   "execution_count": 33,
   "id": "bb46f707",
   "metadata": {},
   "outputs": [
    {
     "data": {
      "text/plain": [
       "1774"
      ]
     },
     "execution_count": 33,
     "metadata": {},
     "output_type": "execute_result"
    }
   ],
   "source": [
    "((y_test_orig==1) & (preds==1)).sum()"
   ]
  },
  {
   "cell_type": "code",
   "execution_count": 34,
   "id": "5479bbac",
   "metadata": {},
   "outputs": [
    {
     "data": {
      "text/plain": [
       "1725"
      ]
     },
     "execution_count": 34,
     "metadata": {},
     "output_type": "execute_result"
    }
   ],
   "source": [
    "((y_test_orig==0) & (preds==0)).sum()"
   ]
  },
  {
   "cell_type": "code",
   "execution_count": 37,
   "id": "3081d8a1",
   "metadata": {},
   "outputs": [
    {
     "data": {
      "text/plain": [
       "0.9895361990950227"
      ]
     },
     "execution_count": 37,
     "metadata": {},
     "output_type": "execute_result"
    }
   ],
   "source": [
    "(y_test_orig==preds).sum() / len(y_test_orig)"
   ]
  }
 ],
 "metadata": {
  "kernelspec": {
   "display_name": "Python 3 (ipykernel)",
   "language": "python",
   "name": "python3"
  },
  "language_info": {
   "codemirror_mode": {
    "name": "ipython",
    "version": 3
   },
   "file_extension": ".py",
   "mimetype": "text/x-python",
   "name": "python",
   "nbconvert_exporter": "python",
   "pygments_lexer": "ipython3",
   "version": "3.12.2"
  }
 },
 "nbformat": 4,
 "nbformat_minor": 5
}
