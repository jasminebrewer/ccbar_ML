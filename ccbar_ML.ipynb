{
 "cells": [
  {
   "cell_type": "code",
   "execution_count": 1,
   "id": "ef28ba7b-1f00-4c8b-a6f0-2356c5b05f56",
   "metadata": {},
   "outputs": [],
   "source": [
    "import numpy as np\n",
    "from random import shuffle\n",
    "from functools import reduce\n",
    "\n",
    "import csv\n",
    "import pickle\n",
    "\n",
    "import matplotlib.pyplot as plt\n",
    "\n",
    "from sklearn.model_selection import train_test_split, ShuffleSplit\n",
    "from sklearn.utils import shuffle\n",
    "# from sklearn.utils import compute_class_weight\n",
    "\n",
    "import tensorflow as tf\n",
    "# from keras import layers, regularizers\n",
    "#layers = tf.keras.layers\n",
    "from tensorflow.keras import layers, models\n",
    "regularizers = tf.keras.regularizers"
   ]
  },
  {
   "cell_type": "code",
   "execution_count": 2,
   "id": "22d158ce",
   "metadata": {
    "tags": []
   },
   "outputs": [],
   "source": [
    "with open('data.pickle', 'rb') as f:\n",
    "    jasmine_data = pickle.load(f)\n",
    "\n",
    "flagged = jasmine_data['flagged']\n",
    "flagged = np.array(flagged, dtype=np.float64)\n",
    "params = jasmine_data['params']\n",
    "# params = [np.transpose(param) for param in params]\n",
    "# onehot_flagged = np.array(onehot_flagged)\n",
    "params_max_size = max(map(len, params))\n",
    "# params = np.array(list(map(lambda mat: np.random.permutation(np.pad(np.array(mat), ((0, params_max_size - len(mat)), (0, 0)))), params)))\n",
    "params = np.array(list(map(lambda mat: np.pad(np.array(mat, dtype=np.float64), ((0, params_max_size - len(mat)), (0, 0))), params))).reshape((-1, params_max_size, 1, 1, 4))"
   ]
  },
  {
   "cell_type": "markdown",
   "id": "0a686fcb",
   "metadata": {},
   "source": [
    "Data has extreme class imbalance. Subsample the majority class to obtain a balance data set for training"
   ]
  },
  {
   "cell_type": "code",
   "execution_count": 3,
   "id": "379f464f",
   "metadata": {},
   "outputs": [
    {
     "name": "stdout",
     "output_type": "stream",
     "text": [
      "Percentage of flagged c-cbar events: 0.04361988806301638\n"
     ]
    }
   ],
   "source": [
    "is_flagged = flagged==1\n",
    "percentage = np.sum(is_flagged) / len(flagged)\n",
    "print('Percentage of flagged c-cbar events: '+str(percentage))"
   ]
  },
  {
   "cell_type": "code",
   "execution_count": 4,
   "id": "2da49ec0",
   "metadata": {},
   "outputs": [],
   "source": [
    "flagged_params = params[ is_flagged ]\n",
    "unflagged_params = params[ ~is_flagged ]\n",
    "\n",
    "# downsample the unflagged (majority) class to be equal in length to the flagged (minority) class\n",
    "unflagged_indices = np.random.choice(unflagged_params.shape[0], size=len(flagged_params), replace=False)\n",
    "to_keep = unflagged_params[ unflagged_indices ]\n",
    "\n",
    "# re-append flagged and unflagged samples together\n",
    "keep_params = np.concatenate( (flagged_params, to_keep) )\n",
    "keep_flagged = np.concatenate( (np.ones(len(flagged_params)), np.zeros(len(to_keep))) )\n",
    "X_orig, y_orig = shuffle( keep_params, keep_flagged, random_state=0 ) # shuffle so that flagged and unflagged classes are all mixed together"
   ]
  },
  {
   "cell_type": "code",
   "execution_count": 5,
   "id": "87683545",
   "metadata": {},
   "outputs": [],
   "source": [
    "def category_encoding_layer(pdgs, max_tokens=None):\n",
    "  \n",
    "  # Create a layer that turns integers into indices.\n",
    "  index = layers.IntegerLookup(max_tokens=max_tokens)\n",
    "\n",
    "  # Learn the set of possible values and assign them a fixed integer index.\n",
    "  index.adapt( pdgs )\n",
    "\n",
    "  # Encode the integer indices.\n",
    "  encoder = layers.CategoryEncoding(num_tokens=index.vocabulary_size(), output_mode=\"one_hot\")\n",
    "\n",
    "  return lambda feature: encoder(index(feature))\n",
    "\n",
    "def do_category_encoding(dataset, category_index):\n",
    "\n",
    "    encoding_layer = category_encoding_layer( dataset[:,:,:,:,category_index] )\n",
    "    encoded_pdgs = np.asarray( encoding_layer( dataset[:,:,:,:,category_index] ) )\n",
    "    mask = np.ones( dataset.shape[4], bool)\n",
    "    mask[category_index] = False\n",
    "    dataset = np.concatenate( (dataset[:,:,:,:,mask], encoded_pdgs), axis=4 )\n",
    "    return dataset"
   ]
  },
  {
   "cell_type": "markdown",
   "id": "978ec252",
   "metadata": {},
   "source": [
    "The most useful piece of information for understanding whether there is a c-cbar splitting inside of a jet is whether there is a c-cbar pair inside of the jet, but this information is often not accessible experimentally. As a test, we remove this information (either replacing charms with gluons or light quarks) and retrain the model to see how this impacts the performance"
   ]
  },
  {
   "cell_type": "code",
   "execution_count": 6,
   "id": "65859624",
   "metadata": {},
   "outputs": [],
   "source": [
    "def replace_charms(pdgs, replacement):\n",
    "\n",
    "    assert replacement=='gluons' or replacement=='light quarks'\n",
    "\n",
    "    mask = np.isin(pdgs,[4,-4])\n",
    "\n",
    "    # replace with the id of gluons (21)\n",
    "    if replacement=='gluons':\n",
    "        pdgs[ mask ] = 21\n",
    "\n",
    "    # replace with up quarks (1)\n",
    "    elif replacement=='light quarks':\n",
    "        pdgs[ mask ] = np.sign( pdgs[mask] )"
   ]
  },
  {
   "cell_type": "markdown",
   "id": "2655616b",
   "metadata": {},
   "source": [
    "Make a copy of the original data, and then create two modifications for testing - either the charms are replaced by gluons, or by light (up) quarks"
   ]
  },
  {
   "cell_type": "code",
   "execution_count": 7,
   "id": "2f102df4",
   "metadata": {},
   "outputs": [],
   "source": [
    "category_index = 3 # the only category in this dataset is the particle id, which is at index 3\n",
    "\n",
    "X_orig_encoded = do_category_encoding(X_orig, category_index)\n",
    "x_train_orig, x_test_orig, y_train_orig, y_test_orig = train_test_split(X_orig_encoded, y_orig, test_size = .2, random_state = 0)\n",
    "\n",
    "X = X_orig.copy()\n",
    "replace_charms(X[:,:,:,:,category_index], 'light quarks')\n",
    "X_encoded = do_category_encoding(X, category_index)\n",
    "x_train_light, x_test_light, y_train_light, y_test_light = train_test_split(X_encoded, y_orig, test_size = .2, random_state = 0)\n",
    "test_light = X[:,:,:,:,category_index].flatten()\n",
    "\n",
    "X2 = X_orig.copy()\n",
    "replace_charms(X2[:,:,:,:,category_index], 'gluons')\n",
    "X_encoded = do_category_encoding(X2, category_index)\n",
    "x_train_gluon, x_test_gluon, y_train_gluon, y_test_gluon = train_test_split(X_encoded, y_orig, test_size = .2, random_state = 0)\n",
    "test_gluon = X2[:,:,:,:,category_index].flatten()"
   ]
  },
  {
   "cell_type": "markdown",
   "id": "8b048d17",
   "metadata": {},
   "source": [
    "Make the model"
   ]
  },
  {
   "cell_type": "code",
   "execution_count": 8,
   "id": "69d867f2",
   "metadata": {},
   "outputs": [],
   "source": [
    "class ReductionLayer(layers.Layer):\n",
    "    def __init__(self, name):\n",
    "        super(ReductionLayer, self).__init__(name=name)\n",
    "\n",
    "    def compute_mask(self, inputs, mask=None):\n",
    "        return mask\n",
    "\n",
    "    def call(self, inputs):\n",
    "        return tf.reduce_sum(inputs, axis=[1, 2, 3])\n",
    "\n",
    "\n",
    "def get_clf(\n",
    "    meta={},\n",
    "    hidden_layer_size=100,\n",
    "    observable_num=128,\n",
    "    activation='leaky_relu',\n",
    "    dropout=0.2,\n",
    "    kernel_reg=1e-5,\n",
    "    bias_reg=1e-5,\n",
    "    activity_reg=1e-5,\n",
    "    shape=x_train_orig.shape[1:]\n",
    "):\n",
    "    inputs = layers.Input(\n",
    "        shape=shape,\n",
    "        name=\"input\",\n",
    "    )\n",
    "    masked_inputs = layers.Masking(mask_value=0.0, name=\"masking\")(inputs)\n",
    "    dense_1 = layers.TimeDistributed(\n",
    "        layers.Dense(\n",
    "            hidden_layer_size,\n",
    "            activation=activation,\n",
    "            kernel_regularizer=regularizers.L2(kernel_reg),\n",
    "            bias_regularizer=regularizers.L2(bias_reg),\n",
    "            activity_regularizer=regularizers.L2(activity_reg),\n",
    "        ),\n",
    "        name=\"dense_1\",\n",
    "    )(masked_inputs)\n",
    "    dropout_1 = layers.Dropout(dropout)(dense_1)\n",
    "    dense_2 = layers.TimeDistributed(\n",
    "        layers.Dense(\n",
    "            hidden_layer_size,\n",
    "            activation=activation,\n",
    "            kernel_regularizer=regularizers.L2(kernel_reg),\n",
    "            bias_regularizer=regularizers.L2(bias_reg),\n",
    "            activity_regularizer=regularizers.L2(activity_reg),\n",
    "        ),\n",
    "        name=\"dense_2\",\n",
    "    )(dropout_1)\n",
    "    dropout_2 = layers.Dropout(dropout)(dense_2)\n",
    "    distributed_phi = layers.TimeDistributed(\n",
    "        layers.Dense(\n",
    "            observable_num,\n",
    "            activation=activation,\n",
    "            kernel_regularizer=regularizers.L2(kernel_reg),\n",
    "            bias_regularizer=regularizers.L2(bias_reg),\n",
    "            activity_regularizer=regularizers.L2(activity_reg),\n",
    "        ),\n",
    "        name=\"distributed_phi\",\n",
    "    )(dropout_2)\n",
    "    observables = ReductionLayer(name=\"observables\")(distributed_phi)\n",
    "    dropout_obs = layers.Dropout(dropout)(observables)\n",
    "    dense_3 = layers.Dense(\n",
    "        hidden_layer_size,\n",
    "        activation=activation,\n",
    "        kernel_regularizer=regularizers.L2(kernel_reg),\n",
    "        bias_regularizer=regularizers.L2(bias_reg),\n",
    "        activity_regularizer=regularizers.L2(activity_reg),\n",
    "        name=\"dense_3\",\n",
    "    )(dropout_obs)\n",
    "    dropout_3 = layers.Dropout(dropout)(dense_3)\n",
    "    dense_4 = layers.Dense(\n",
    "        hidden_layer_size,\n",
    "        activation=activation,\n",
    "        kernel_regularizer=regularizers.L2(kernel_reg),\n",
    "        bias_regularizer=regularizers.L2(bias_reg),\n",
    "        activity_regularizer=regularizers.L2(activity_reg),\n",
    "        name=\"dense_4\",\n",
    "    )(dropout_3)\n",
    "    dropout_4 = layers.Dropout(dropout)(dense_4)\n",
    "    dense_5 = layers.Dense(\n",
    "        hidden_layer_size,\n",
    "        activation=activation,\n",
    "        kernel_regularizer=regularizers.L2(kernel_reg),\n",
    "        bias_regularizer=regularizers.L2(bias_reg),\n",
    "        activity_regularizer=regularizers.L2(activity_reg),\n",
    "        name=\"dense_5\",\n",
    "    )(dropout_4)\n",
    "    dropout_5 = layers.Dropout(dropout)(dense_5)\n",
    "    output = layers.Dense(1, activation=\"sigmoid\", name=\"output\")(dropout_5)\n",
    "\n",
    "    model = tf.keras.models.Model(inputs=inputs, outputs=output)\n",
    "\n",
    "    return model"
   ]
  },
  {
   "cell_type": "code",
   "execution_count": 9,
   "id": "2b295939",
   "metadata": {},
   "outputs": [],
   "source": [
    "clf = get_clf(dropout=0.2)\n",
    "\n",
    "loss_fn = tf.keras.losses.BinaryCrossentropy(from_logits=False)\n",
    "\n",
    "# class_weights = compute_class_weight(\n",
    "#     class_weight=\"balanced\", classes=np.unique(flagged), y=flagged\n",
    "# )\n",
    "# class_weights /= sum(class_weights)\n",
    "# loss_fn = tf.keras.losses.BinaryFocalCrossentropy(\n",
    "#     apply_class_balancing=True, alpha=0.5, gamma=2, from_logits=False\n",
    "# )\n",
    "\n",
    "clf.compile(optimizer=\"adam\", loss=loss_fn, metrics=[\"Accuracy\", \"AUC\", \"Precision\", \"Recall\"])"
   ]
  },
  {
   "cell_type": "markdown",
   "id": "6cd1c16e",
   "metadata": {},
   "source": [
    "The most useful piece of information for understanding whether there is a c-cbar splitting inside of a jet is whether there is a c-cbar pair inside of the jet, but this information is often not accessible experimentally. As a test, we remove this information (either replacing charms with gluons or light quarks) and retrain the model to see how this impacts the performance"
   ]
  },
  {
   "cell_type": "code",
   "execution_count": 10,
   "id": "20b402dc",
   "metadata": {},
   "outputs": [
    {
     "data": {
      "text/html": [
       "<pre style=\"white-space:pre;overflow-x:auto;line-height:normal;font-family:Menlo,'DejaVu Sans Mono',consolas,'Courier New',monospace\"><span style=\"font-weight: bold\">Model: \"functional_1\"</span>\n",
       "</pre>\n"
      ],
      "text/plain": [
       "\u001b[1mModel: \"functional_1\"\u001b[0m\n"
      ]
     },
     "metadata": {},
     "output_type": "display_data"
    },
    {
     "data": {
      "text/html": [
       "<pre style=\"white-space:pre;overflow-x:auto;line-height:normal;font-family:Menlo,'DejaVu Sans Mono',consolas,'Courier New',monospace\">┏━━━━━━━━━━━━━━━━━━━━━┳━━━━━━━━━━━━━━━━━━━┳━━━━━━━━━━━━┳━━━━━━━━━━━━━━━━━━━┓\n",
       "┃<span style=\"font-weight: bold\"> Layer (type)        </span>┃<span style=\"font-weight: bold\"> Output Shape      </span>┃<span style=\"font-weight: bold\">    Param # </span>┃<span style=\"font-weight: bold\"> Connected to      </span>┃\n",
       "┡━━━━━━━━━━━━━━━━━━━━━╇━━━━━━━━━━━━━━━━━━━╇━━━━━━━━━━━━╇━━━━━━━━━━━━━━━━━━━┩\n",
       "│ input (<span style=\"color: #0087ff; text-decoration-color: #0087ff\">InputLayer</span>)  │ (<span style=\"color: #00d7ff; text-decoration-color: #00d7ff\">None</span>, <span style=\"color: #00af00; text-decoration-color: #00af00\">42</span>, <span style=\"color: #00af00; text-decoration-color: #00af00\">1</span>, <span style=\"color: #00af00; text-decoration-color: #00af00\">1</span>,  │          <span style=\"color: #00af00; text-decoration-color: #00af00\">0</span> │ -                 │\n",
       "│                     │ <span style=\"color: #00af00; text-decoration-color: #00af00\">22</span>)               │            │                   │\n",
       "├─────────────────────┼───────────────────┼────────────┼───────────────────┤\n",
       "│ not_equal           │ (<span style=\"color: #00d7ff; text-decoration-color: #00d7ff\">None</span>, <span style=\"color: #00af00; text-decoration-color: #00af00\">42</span>, <span style=\"color: #00af00; text-decoration-color: #00af00\">1</span>, <span style=\"color: #00af00; text-decoration-color: #00af00\">1</span>,  │          <span style=\"color: #00af00; text-decoration-color: #00af00\">0</span> │ input[<span style=\"color: #00af00; text-decoration-color: #00af00\">0</span>][<span style=\"color: #00af00; text-decoration-color: #00af00\">0</span>]       │\n",
       "│ (<span style=\"color: #0087ff; text-decoration-color: #0087ff\">NotEqual</span>)          │ <span style=\"color: #00af00; text-decoration-color: #00af00\">22</span>)               │            │                   │\n",
       "├─────────────────────┼───────────────────┼────────────┼───────────────────┤\n",
       "│ masking (<span style=\"color: #0087ff; text-decoration-color: #0087ff\">Masking</span>)   │ (<span style=\"color: #00d7ff; text-decoration-color: #00d7ff\">None</span>, <span style=\"color: #00af00; text-decoration-color: #00af00\">42</span>, <span style=\"color: #00af00; text-decoration-color: #00af00\">1</span>, <span style=\"color: #00af00; text-decoration-color: #00af00\">1</span>,  │          <span style=\"color: #00af00; text-decoration-color: #00af00\">0</span> │ input[<span style=\"color: #00af00; text-decoration-color: #00af00\">0</span>][<span style=\"color: #00af00; text-decoration-color: #00af00\">0</span>]       │\n",
       "│                     │ <span style=\"color: #00af00; text-decoration-color: #00af00\">22</span>)               │            │                   │\n",
       "├─────────────────────┼───────────────────┼────────────┼───────────────────┤\n",
       "│ any (<span style=\"color: #0087ff; text-decoration-color: #0087ff\">Any</span>)           │ (<span style=\"color: #00d7ff; text-decoration-color: #00d7ff\">None</span>, <span style=\"color: #00af00; text-decoration-color: #00af00\">42</span>, <span style=\"color: #00af00; text-decoration-color: #00af00\">1</span>, <span style=\"color: #00af00; text-decoration-color: #00af00\">1</span>)  │          <span style=\"color: #00af00; text-decoration-color: #00af00\">0</span> │ not_equal[<span style=\"color: #00af00; text-decoration-color: #00af00\">0</span>][<span style=\"color: #00af00; text-decoration-color: #00af00\">0</span>]   │\n",
       "├─────────────────────┼───────────────────┼────────────┼───────────────────┤\n",
       "│ dense_1             │ (<span style=\"color: #00d7ff; text-decoration-color: #00d7ff\">None</span>, <span style=\"color: #00af00; text-decoration-color: #00af00\">42</span>, <span style=\"color: #00af00; text-decoration-color: #00af00\">1</span>, <span style=\"color: #00af00; text-decoration-color: #00af00\">1</span>,  │      <span style=\"color: #00af00; text-decoration-color: #00af00\">2,300</span> │ masking[<span style=\"color: #00af00; text-decoration-color: #00af00\">0</span>][<span style=\"color: #00af00; text-decoration-color: #00af00\">0</span>],    │\n",
       "│ (<span style=\"color: #0087ff; text-decoration-color: #0087ff\">TimeDistributed</span>)   │ <span style=\"color: #00af00; text-decoration-color: #00af00\">100</span>)              │            │ any[<span style=\"color: #00af00; text-decoration-color: #00af00\">0</span>][<span style=\"color: #00af00; text-decoration-color: #00af00\">0</span>]         │\n",
       "├─────────────────────┼───────────────────┼────────────┼───────────────────┤\n",
       "│ dropout (<span style=\"color: #0087ff; text-decoration-color: #0087ff\">Dropout</span>)   │ (<span style=\"color: #00d7ff; text-decoration-color: #00d7ff\">None</span>, <span style=\"color: #00af00; text-decoration-color: #00af00\">42</span>, <span style=\"color: #00af00; text-decoration-color: #00af00\">1</span>, <span style=\"color: #00af00; text-decoration-color: #00af00\">1</span>,  │          <span style=\"color: #00af00; text-decoration-color: #00af00\">0</span> │ dense_1[<span style=\"color: #00af00; text-decoration-color: #00af00\">0</span>][<span style=\"color: #00af00; text-decoration-color: #00af00\">0</span>]     │\n",
       "│                     │ <span style=\"color: #00af00; text-decoration-color: #00af00\">100</span>)              │            │                   │\n",
       "├─────────────────────┼───────────────────┼────────────┼───────────────────┤\n",
       "│ dense_2             │ (<span style=\"color: #00d7ff; text-decoration-color: #00d7ff\">None</span>, <span style=\"color: #00af00; text-decoration-color: #00af00\">42</span>, <span style=\"color: #00af00; text-decoration-color: #00af00\">1</span>, <span style=\"color: #00af00; text-decoration-color: #00af00\">1</span>,  │     <span style=\"color: #00af00; text-decoration-color: #00af00\">10,100</span> │ dropout[<span style=\"color: #00af00; text-decoration-color: #00af00\">0</span>][<span style=\"color: #00af00; text-decoration-color: #00af00\">0</span>],    │\n",
       "│ (<span style=\"color: #0087ff; text-decoration-color: #0087ff\">TimeDistributed</span>)   │ <span style=\"color: #00af00; text-decoration-color: #00af00\">100</span>)              │            │ any[<span style=\"color: #00af00; text-decoration-color: #00af00\">0</span>][<span style=\"color: #00af00; text-decoration-color: #00af00\">0</span>]         │\n",
       "├─────────────────────┼───────────────────┼────────────┼───────────────────┤\n",
       "│ dropout_1 (<span style=\"color: #0087ff; text-decoration-color: #0087ff\">Dropout</span>) │ (<span style=\"color: #00d7ff; text-decoration-color: #00d7ff\">None</span>, <span style=\"color: #00af00; text-decoration-color: #00af00\">42</span>, <span style=\"color: #00af00; text-decoration-color: #00af00\">1</span>, <span style=\"color: #00af00; text-decoration-color: #00af00\">1</span>,  │          <span style=\"color: #00af00; text-decoration-color: #00af00\">0</span> │ dense_2[<span style=\"color: #00af00; text-decoration-color: #00af00\">0</span>][<span style=\"color: #00af00; text-decoration-color: #00af00\">0</span>]     │\n",
       "│                     │ <span style=\"color: #00af00; text-decoration-color: #00af00\">100</span>)              │            │                   │\n",
       "├─────────────────────┼───────────────────┼────────────┼───────────────────┤\n",
       "│ distributed_phi     │ (<span style=\"color: #00d7ff; text-decoration-color: #00d7ff\">None</span>, <span style=\"color: #00af00; text-decoration-color: #00af00\">42</span>, <span style=\"color: #00af00; text-decoration-color: #00af00\">1</span>, <span style=\"color: #00af00; text-decoration-color: #00af00\">1</span>,  │     <span style=\"color: #00af00; text-decoration-color: #00af00\">12,928</span> │ dropout_1[<span style=\"color: #00af00; text-decoration-color: #00af00\">0</span>][<span style=\"color: #00af00; text-decoration-color: #00af00\">0</span>],  │\n",
       "│ (<span style=\"color: #0087ff; text-decoration-color: #0087ff\">TimeDistributed</span>)   │ <span style=\"color: #00af00; text-decoration-color: #00af00\">128</span>)              │            │ any[<span style=\"color: #00af00; text-decoration-color: #00af00\">0</span>][<span style=\"color: #00af00; text-decoration-color: #00af00\">0</span>]         │\n",
       "├─────────────────────┼───────────────────┼────────────┼───────────────────┤\n",
       "│ observables         │ (<span style=\"color: #00d7ff; text-decoration-color: #00d7ff\">None</span>, <span style=\"color: #00af00; text-decoration-color: #00af00\">128</span>)       │          <span style=\"color: #00af00; text-decoration-color: #00af00\">0</span> │ distributed_phi[<span style=\"color: #00af00; text-decoration-color: #00af00\">…</span> │\n",
       "│ (<span style=\"color: #0087ff; text-decoration-color: #0087ff\">ReductionLayer</span>)    │                   │            │                   │\n",
       "├─────────────────────┼───────────────────┼────────────┼───────────────────┤\n",
       "│ dropout_2 (<span style=\"color: #0087ff; text-decoration-color: #0087ff\">Dropout</span>) │ (<span style=\"color: #00d7ff; text-decoration-color: #00d7ff\">None</span>, <span style=\"color: #00af00; text-decoration-color: #00af00\">128</span>)       │          <span style=\"color: #00af00; text-decoration-color: #00af00\">0</span> │ observables[<span style=\"color: #00af00; text-decoration-color: #00af00\">0</span>][<span style=\"color: #00af00; text-decoration-color: #00af00\">0</span>] │\n",
       "├─────────────────────┼───────────────────┼────────────┼───────────────────┤\n",
       "│ dense_3 (<span style=\"color: #0087ff; text-decoration-color: #0087ff\">Dense</span>)     │ (<span style=\"color: #00d7ff; text-decoration-color: #00d7ff\">None</span>, <span style=\"color: #00af00; text-decoration-color: #00af00\">100</span>)       │     <span style=\"color: #00af00; text-decoration-color: #00af00\">12,900</span> │ dropout_2[<span style=\"color: #00af00; text-decoration-color: #00af00\">0</span>][<span style=\"color: #00af00; text-decoration-color: #00af00\">0</span>]   │\n",
       "├─────────────────────┼───────────────────┼────────────┼───────────────────┤\n",
       "│ dropout_3 (<span style=\"color: #0087ff; text-decoration-color: #0087ff\">Dropout</span>) │ (<span style=\"color: #00d7ff; text-decoration-color: #00d7ff\">None</span>, <span style=\"color: #00af00; text-decoration-color: #00af00\">100</span>)       │          <span style=\"color: #00af00; text-decoration-color: #00af00\">0</span> │ dense_3[<span style=\"color: #00af00; text-decoration-color: #00af00\">0</span>][<span style=\"color: #00af00; text-decoration-color: #00af00\">0</span>]     │\n",
       "├─────────────────────┼───────────────────┼────────────┼───────────────────┤\n",
       "│ dense_4 (<span style=\"color: #0087ff; text-decoration-color: #0087ff\">Dense</span>)     │ (<span style=\"color: #00d7ff; text-decoration-color: #00d7ff\">None</span>, <span style=\"color: #00af00; text-decoration-color: #00af00\">100</span>)       │     <span style=\"color: #00af00; text-decoration-color: #00af00\">10,100</span> │ dropout_3[<span style=\"color: #00af00; text-decoration-color: #00af00\">0</span>][<span style=\"color: #00af00; text-decoration-color: #00af00\">0</span>]   │\n",
       "├─────────────────────┼───────────────────┼────────────┼───────────────────┤\n",
       "│ dropout_4 (<span style=\"color: #0087ff; text-decoration-color: #0087ff\">Dropout</span>) │ (<span style=\"color: #00d7ff; text-decoration-color: #00d7ff\">None</span>, <span style=\"color: #00af00; text-decoration-color: #00af00\">100</span>)       │          <span style=\"color: #00af00; text-decoration-color: #00af00\">0</span> │ dense_4[<span style=\"color: #00af00; text-decoration-color: #00af00\">0</span>][<span style=\"color: #00af00; text-decoration-color: #00af00\">0</span>]     │\n",
       "├─────────────────────┼───────────────────┼────────────┼───────────────────┤\n",
       "│ dense_5 (<span style=\"color: #0087ff; text-decoration-color: #0087ff\">Dense</span>)     │ (<span style=\"color: #00d7ff; text-decoration-color: #00d7ff\">None</span>, <span style=\"color: #00af00; text-decoration-color: #00af00\">100</span>)       │     <span style=\"color: #00af00; text-decoration-color: #00af00\">10,100</span> │ dropout_4[<span style=\"color: #00af00; text-decoration-color: #00af00\">0</span>][<span style=\"color: #00af00; text-decoration-color: #00af00\">0</span>]   │\n",
       "├─────────────────────┼───────────────────┼────────────┼───────────────────┤\n",
       "│ dropout_5 (<span style=\"color: #0087ff; text-decoration-color: #0087ff\">Dropout</span>) │ (<span style=\"color: #00d7ff; text-decoration-color: #00d7ff\">None</span>, <span style=\"color: #00af00; text-decoration-color: #00af00\">100</span>)       │          <span style=\"color: #00af00; text-decoration-color: #00af00\">0</span> │ dense_5[<span style=\"color: #00af00; text-decoration-color: #00af00\">0</span>][<span style=\"color: #00af00; text-decoration-color: #00af00\">0</span>]     │\n",
       "├─────────────────────┼───────────────────┼────────────┼───────────────────┤\n",
       "│ output (<span style=\"color: #0087ff; text-decoration-color: #0087ff\">Dense</span>)      │ (<span style=\"color: #00d7ff; text-decoration-color: #00d7ff\">None</span>, <span style=\"color: #00af00; text-decoration-color: #00af00\">1</span>)         │        <span style=\"color: #00af00; text-decoration-color: #00af00\">101</span> │ dropout_5[<span style=\"color: #00af00; text-decoration-color: #00af00\">0</span>][<span style=\"color: #00af00; text-decoration-color: #00af00\">0</span>]   │\n",
       "└─────────────────────┴───────────────────┴────────────┴───────────────────┘\n",
       "</pre>\n"
      ],
      "text/plain": [
       "┏━━━━━━━━━━━━━━━━━━━━━┳━━━━━━━━━━━━━━━━━━━┳━━━━━━━━━━━━┳━━━━━━━━━━━━━━━━━━━┓\n",
       "┃\u001b[1m \u001b[0m\u001b[1mLayer (type)       \u001b[0m\u001b[1m \u001b[0m┃\u001b[1m \u001b[0m\u001b[1mOutput Shape     \u001b[0m\u001b[1m \u001b[0m┃\u001b[1m \u001b[0m\u001b[1m   Param #\u001b[0m\u001b[1m \u001b[0m┃\u001b[1m \u001b[0m\u001b[1mConnected to     \u001b[0m\u001b[1m \u001b[0m┃\n",
       "┡━━━━━━━━━━━━━━━━━━━━━╇━━━━━━━━━━━━━━━━━━━╇━━━━━━━━━━━━╇━━━━━━━━━━━━━━━━━━━┩\n",
       "│ input (\u001b[38;5;33mInputLayer\u001b[0m)  │ (\u001b[38;5;45mNone\u001b[0m, \u001b[38;5;34m42\u001b[0m, \u001b[38;5;34m1\u001b[0m, \u001b[38;5;34m1\u001b[0m,  │          \u001b[38;5;34m0\u001b[0m │ -                 │\n",
       "│                     │ \u001b[38;5;34m22\u001b[0m)               │            │                   │\n",
       "├─────────────────────┼───────────────────┼────────────┼───────────────────┤\n",
       "│ not_equal           │ (\u001b[38;5;45mNone\u001b[0m, \u001b[38;5;34m42\u001b[0m, \u001b[38;5;34m1\u001b[0m, \u001b[38;5;34m1\u001b[0m,  │          \u001b[38;5;34m0\u001b[0m │ input[\u001b[38;5;34m0\u001b[0m][\u001b[38;5;34m0\u001b[0m]       │\n",
       "│ (\u001b[38;5;33mNotEqual\u001b[0m)          │ \u001b[38;5;34m22\u001b[0m)               │            │                   │\n",
       "├─────────────────────┼───────────────────┼────────────┼───────────────────┤\n",
       "│ masking (\u001b[38;5;33mMasking\u001b[0m)   │ (\u001b[38;5;45mNone\u001b[0m, \u001b[38;5;34m42\u001b[0m, \u001b[38;5;34m1\u001b[0m, \u001b[38;5;34m1\u001b[0m,  │          \u001b[38;5;34m0\u001b[0m │ input[\u001b[38;5;34m0\u001b[0m][\u001b[38;5;34m0\u001b[0m]       │\n",
       "│                     │ \u001b[38;5;34m22\u001b[0m)               │            │                   │\n",
       "├─────────────────────┼───────────────────┼────────────┼───────────────────┤\n",
       "│ any (\u001b[38;5;33mAny\u001b[0m)           │ (\u001b[38;5;45mNone\u001b[0m, \u001b[38;5;34m42\u001b[0m, \u001b[38;5;34m1\u001b[0m, \u001b[38;5;34m1\u001b[0m)  │          \u001b[38;5;34m0\u001b[0m │ not_equal[\u001b[38;5;34m0\u001b[0m][\u001b[38;5;34m0\u001b[0m]   │\n",
       "├─────────────────────┼───────────────────┼────────────┼───────────────────┤\n",
       "│ dense_1             │ (\u001b[38;5;45mNone\u001b[0m, \u001b[38;5;34m42\u001b[0m, \u001b[38;5;34m1\u001b[0m, \u001b[38;5;34m1\u001b[0m,  │      \u001b[38;5;34m2,300\u001b[0m │ masking[\u001b[38;5;34m0\u001b[0m][\u001b[38;5;34m0\u001b[0m],    │\n",
       "│ (\u001b[38;5;33mTimeDistributed\u001b[0m)   │ \u001b[38;5;34m100\u001b[0m)              │            │ any[\u001b[38;5;34m0\u001b[0m][\u001b[38;5;34m0\u001b[0m]         │\n",
       "├─────────────────────┼───────────────────┼────────────┼───────────────────┤\n",
       "│ dropout (\u001b[38;5;33mDropout\u001b[0m)   │ (\u001b[38;5;45mNone\u001b[0m, \u001b[38;5;34m42\u001b[0m, \u001b[38;5;34m1\u001b[0m, \u001b[38;5;34m1\u001b[0m,  │          \u001b[38;5;34m0\u001b[0m │ dense_1[\u001b[38;5;34m0\u001b[0m][\u001b[38;5;34m0\u001b[0m]     │\n",
       "│                     │ \u001b[38;5;34m100\u001b[0m)              │            │                   │\n",
       "├─────────────────────┼───────────────────┼────────────┼───────────────────┤\n",
       "│ dense_2             │ (\u001b[38;5;45mNone\u001b[0m, \u001b[38;5;34m42\u001b[0m, \u001b[38;5;34m1\u001b[0m, \u001b[38;5;34m1\u001b[0m,  │     \u001b[38;5;34m10,100\u001b[0m │ dropout[\u001b[38;5;34m0\u001b[0m][\u001b[38;5;34m0\u001b[0m],    │\n",
       "│ (\u001b[38;5;33mTimeDistributed\u001b[0m)   │ \u001b[38;5;34m100\u001b[0m)              │            │ any[\u001b[38;5;34m0\u001b[0m][\u001b[38;5;34m0\u001b[0m]         │\n",
       "├─────────────────────┼───────────────────┼────────────┼───────────────────┤\n",
       "│ dropout_1 (\u001b[38;5;33mDropout\u001b[0m) │ (\u001b[38;5;45mNone\u001b[0m, \u001b[38;5;34m42\u001b[0m, \u001b[38;5;34m1\u001b[0m, \u001b[38;5;34m1\u001b[0m,  │          \u001b[38;5;34m0\u001b[0m │ dense_2[\u001b[38;5;34m0\u001b[0m][\u001b[38;5;34m0\u001b[0m]     │\n",
       "│                     │ \u001b[38;5;34m100\u001b[0m)              │            │                   │\n",
       "├─────────────────────┼───────────────────┼────────────┼───────────────────┤\n",
       "│ distributed_phi     │ (\u001b[38;5;45mNone\u001b[0m, \u001b[38;5;34m42\u001b[0m, \u001b[38;5;34m1\u001b[0m, \u001b[38;5;34m1\u001b[0m,  │     \u001b[38;5;34m12,928\u001b[0m │ dropout_1[\u001b[38;5;34m0\u001b[0m][\u001b[38;5;34m0\u001b[0m],  │\n",
       "│ (\u001b[38;5;33mTimeDistributed\u001b[0m)   │ \u001b[38;5;34m128\u001b[0m)              │            │ any[\u001b[38;5;34m0\u001b[0m][\u001b[38;5;34m0\u001b[0m]         │\n",
       "├─────────────────────┼───────────────────┼────────────┼───────────────────┤\n",
       "│ observables         │ (\u001b[38;5;45mNone\u001b[0m, \u001b[38;5;34m128\u001b[0m)       │          \u001b[38;5;34m0\u001b[0m │ distributed_phi[\u001b[38;5;34m…\u001b[0m │\n",
       "│ (\u001b[38;5;33mReductionLayer\u001b[0m)    │                   │            │                   │\n",
       "├─────────────────────┼───────────────────┼────────────┼───────────────────┤\n",
       "│ dropout_2 (\u001b[38;5;33mDropout\u001b[0m) │ (\u001b[38;5;45mNone\u001b[0m, \u001b[38;5;34m128\u001b[0m)       │          \u001b[38;5;34m0\u001b[0m │ observables[\u001b[38;5;34m0\u001b[0m][\u001b[38;5;34m0\u001b[0m] │\n",
       "├─────────────────────┼───────────────────┼────────────┼───────────────────┤\n",
       "│ dense_3 (\u001b[38;5;33mDense\u001b[0m)     │ (\u001b[38;5;45mNone\u001b[0m, \u001b[38;5;34m100\u001b[0m)       │     \u001b[38;5;34m12,900\u001b[0m │ dropout_2[\u001b[38;5;34m0\u001b[0m][\u001b[38;5;34m0\u001b[0m]   │\n",
       "├─────────────────────┼───────────────────┼────────────┼───────────────────┤\n",
       "│ dropout_3 (\u001b[38;5;33mDropout\u001b[0m) │ (\u001b[38;5;45mNone\u001b[0m, \u001b[38;5;34m100\u001b[0m)       │          \u001b[38;5;34m0\u001b[0m │ dense_3[\u001b[38;5;34m0\u001b[0m][\u001b[38;5;34m0\u001b[0m]     │\n",
       "├─────────────────────┼───────────────────┼────────────┼───────────────────┤\n",
       "│ dense_4 (\u001b[38;5;33mDense\u001b[0m)     │ (\u001b[38;5;45mNone\u001b[0m, \u001b[38;5;34m100\u001b[0m)       │     \u001b[38;5;34m10,100\u001b[0m │ dropout_3[\u001b[38;5;34m0\u001b[0m][\u001b[38;5;34m0\u001b[0m]   │\n",
       "├─────────────────────┼───────────────────┼────────────┼───────────────────┤\n",
       "│ dropout_4 (\u001b[38;5;33mDropout\u001b[0m) │ (\u001b[38;5;45mNone\u001b[0m, \u001b[38;5;34m100\u001b[0m)       │          \u001b[38;5;34m0\u001b[0m │ dense_4[\u001b[38;5;34m0\u001b[0m][\u001b[38;5;34m0\u001b[0m]     │\n",
       "├─────────────────────┼───────────────────┼────────────┼───────────────────┤\n",
       "│ dense_5 (\u001b[38;5;33mDense\u001b[0m)     │ (\u001b[38;5;45mNone\u001b[0m, \u001b[38;5;34m100\u001b[0m)       │     \u001b[38;5;34m10,100\u001b[0m │ dropout_4[\u001b[38;5;34m0\u001b[0m][\u001b[38;5;34m0\u001b[0m]   │\n",
       "├─────────────────────┼───────────────────┼────────────┼───────────────────┤\n",
       "│ dropout_5 (\u001b[38;5;33mDropout\u001b[0m) │ (\u001b[38;5;45mNone\u001b[0m, \u001b[38;5;34m100\u001b[0m)       │          \u001b[38;5;34m0\u001b[0m │ dense_5[\u001b[38;5;34m0\u001b[0m][\u001b[38;5;34m0\u001b[0m]     │\n",
       "├─────────────────────┼───────────────────┼────────────┼───────────────────┤\n",
       "│ output (\u001b[38;5;33mDense\u001b[0m)      │ (\u001b[38;5;45mNone\u001b[0m, \u001b[38;5;34m1\u001b[0m)         │        \u001b[38;5;34m101\u001b[0m │ dropout_5[\u001b[38;5;34m0\u001b[0m][\u001b[38;5;34m0\u001b[0m]   │\n",
       "└─────────────────────┴───────────────────┴────────────┴───────────────────┘\n"
      ]
     },
     "metadata": {},
     "output_type": "display_data"
    },
    {
     "data": {
      "text/html": [
       "<pre style=\"white-space:pre;overflow-x:auto;line-height:normal;font-family:Menlo,'DejaVu Sans Mono',consolas,'Courier New',monospace\"><span style=\"font-weight: bold\"> Total params: </span><span style=\"color: #00af00; text-decoration-color: #00af00\">58,529</span> (228.63 KB)\n",
       "</pre>\n"
      ],
      "text/plain": [
       "\u001b[1m Total params: \u001b[0m\u001b[38;5;34m58,529\u001b[0m (228.63 KB)\n"
      ]
     },
     "metadata": {},
     "output_type": "display_data"
    },
    {
     "data": {
      "text/html": [
       "<pre style=\"white-space:pre;overflow-x:auto;line-height:normal;font-family:Menlo,'DejaVu Sans Mono',consolas,'Courier New',monospace\"><span style=\"font-weight: bold\"> Trainable params: </span><span style=\"color: #00af00; text-decoration-color: #00af00\">58,529</span> (228.63 KB)\n",
       "</pre>\n"
      ],
      "text/plain": [
       "\u001b[1m Trainable params: \u001b[0m\u001b[38;5;34m58,529\u001b[0m (228.63 KB)\n"
      ]
     },
     "metadata": {},
     "output_type": "display_data"
    },
    {
     "data": {
      "text/html": [
       "<pre style=\"white-space:pre;overflow-x:auto;line-height:normal;font-family:Menlo,'DejaVu Sans Mono',consolas,'Courier New',monospace\"><span style=\"font-weight: bold\"> Non-trainable params: </span><span style=\"color: #00af00; text-decoration-color: #00af00\">0</span> (0.00 B)\n",
       "</pre>\n"
      ],
      "text/plain": [
       "\u001b[1m Non-trainable params: \u001b[0m\u001b[38;5;34m0\u001b[0m (0.00 B)\n"
      ]
     },
     "metadata": {},
     "output_type": "display_data"
    }
   ],
   "source": [
    "clf.summary()"
   ]
  },
  {
   "cell_type": "code",
   "execution_count": 11,
   "id": "ad45b45a",
   "metadata": {},
   "outputs": [
    {
     "name": "stdout",
     "output_type": "stream",
     "text": [
      "You must install pydot (`pip install pydot`) for `plot_model` to work.\n"
     ]
    }
   ],
   "source": [
    "dot_img_file = \"./model_1.png\"\n",
    "tf.keras.utils.plot_model(\n",
    "    clf,\n",
    "    to_file=dot_img_file,\n",
    "    show_shapes=True,\n",
    "    show_layer_names=True,\n",
    "    show_layer_activations=True,\n",
    "    expand_nested=True,\n",
    ")"
   ]
  },
  {
   "cell_type": "code",
   "execution_count": 12,
   "id": "278f8b23",
   "metadata": {},
   "outputs": [
    {
     "name": "stdout",
     "output_type": "stream",
     "text": [
      "Epoch 1/10\n",
      "\u001b[1m46/46\u001b[0m \u001b[32m━━━━━━━━━━━━━━━━━━━━\u001b[0m\u001b[37m\u001b[0m \u001b[1m9s\u001b[0m 110ms/step - AUC: 0.6306 - Accuracy: 0.5937 - Precision: 0.5960 - Recall: 0.6249 - loss: 0.9646 - val_AUC: 0.9993 - val_Accuracy: 0.9915 - val_Precision: 0.9881 - val_Recall: 0.9950 - val_loss: 0.1385\n",
      "Epoch 2/10\n",
      "\u001b[1m46/46\u001b[0m \u001b[32m━━━━━━━━━━━━━━━━━━━━\u001b[0m\u001b[37m\u001b[0m \u001b[1m5s\u001b[0m 100ms/step - AUC: 0.9984 - Accuracy: 0.9815 - Precision: 0.9692 - Recall: 0.9941 - loss: 0.1582 - val_AUC: 0.9997 - val_Accuracy: 0.9940 - val_Precision: 0.9993 - val_Recall: 0.9887 - val_loss: 0.0921\n",
      "Epoch 3/10\n",
      "\u001b[1m46/46\u001b[0m \u001b[32m━━━━━━━━━━━━━━━━━━━━\u001b[0m\u001b[37m\u001b[0m \u001b[1m5s\u001b[0m 115ms/step - AUC: 0.9994 - Accuracy: 0.9910 - Precision: 0.9873 - Recall: 0.9950 - loss: 0.1051 - val_AUC: 1.0000 - val_Accuracy: 0.9968 - val_Precision: 0.9993 - val_Recall: 0.9943 - val_loss: 0.0701\n",
      "Epoch 4/10\n",
      "\u001b[1m46/46\u001b[0m \u001b[32m━━━━━━━━━━━━━━━━━━━━\u001b[0m\u001b[37m\u001b[0m \u001b[1m5s\u001b[0m 111ms/step - AUC: 0.9996 - Accuracy: 0.9939 - Precision: 0.9918 - Recall: 0.9960 - loss: 0.0829 - val_AUC: 0.9999 - val_Accuracy: 0.9940 - val_Precision: 0.9993 - val_Recall: 0.9887 - val_loss: 0.0636\n",
      "Epoch 5/10\n",
      "\u001b[1m46/46\u001b[0m \u001b[32m━━━━━━━━━━━━━━━━━━━━\u001b[0m\u001b[37m\u001b[0m \u001b[1m5s\u001b[0m 117ms/step - AUC: 0.9999 - Accuracy: 0.9965 - Precision: 0.9947 - Recall: 0.9983 - loss: 0.0708 - val_AUC: 0.9998 - val_Accuracy: 0.9986 - val_Precision: 0.9993 - val_Recall: 0.9979 - val_loss: 0.0507\n",
      "Epoch 6/10\n",
      "\u001b[1m46/46\u001b[0m \u001b[32m━━━━━━━━━━━━━━━━━━━━\u001b[0m\u001b[37m\u001b[0m \u001b[1m5s\u001b[0m 118ms/step - AUC: 0.9999 - Accuracy: 0.9962 - Precision: 0.9955 - Recall: 0.9970 - loss: 0.0624 - val_AUC: 1.0000 - val_Accuracy: 0.9996 - val_Precision: 0.9993 - val_Recall: 1.0000 - val_loss: 0.0467\n",
      "Epoch 7/10\n",
      "\u001b[1m46/46\u001b[0m \u001b[32m━━━━━━━━━━━━━━━━━━━━\u001b[0m\u001b[37m\u001b[0m \u001b[1m5s\u001b[0m 118ms/step - AUC: 0.9997 - Accuracy: 0.9937 - Precision: 0.9905 - Recall: 0.9969 - loss: 0.0614 - val_AUC: 1.0000 - val_Accuracy: 0.9996 - val_Precision: 0.9993 - val_Recall: 1.0000 - val_loss: 0.0398\n",
      "Epoch 8/10\n",
      "\u001b[1m46/46\u001b[0m \u001b[32m━━━━━━━━━━━━━━━━━━━━\u001b[0m\u001b[37m\u001b[0m \u001b[1m5s\u001b[0m 117ms/step - AUC: 0.9997 - Accuracy: 0.9979 - Precision: 0.9975 - Recall: 0.9982 - loss: 0.0519 - val_AUC: 1.0000 - val_Accuracy: 0.9989 - val_Precision: 0.9993 - val_Recall: 0.9986 - val_loss: 0.0385\n",
      "Epoch 9/10\n",
      "\u001b[1m46/46\u001b[0m \u001b[32m━━━━━━━━━━━━━━━━━━━━\u001b[0m\u001b[37m\u001b[0m \u001b[1m6s\u001b[0m 121ms/step - AUC: 0.9999 - Accuracy: 0.9981 - Precision: 0.9979 - Recall: 0.9982 - loss: 0.0453 - val_AUC: 1.0000 - val_Accuracy: 0.9982 - val_Precision: 0.9986 - val_Recall: 0.9979 - val_loss: 0.0364\n",
      "Epoch 10/10\n",
      "\u001b[1m46/46\u001b[0m \u001b[32m━━━━━━━━━━━━━━━━━━━━\u001b[0m\u001b[37m\u001b[0m \u001b[1m6s\u001b[0m 121ms/step - AUC: 0.9999 - Accuracy: 0.9988 - Precision: 0.9989 - Recall: 0.9987 - loss: 0.0427 - val_AUC: 1.0000 - val_Accuracy: 0.9996 - val_Precision: 0.9993 - val_Recall: 1.0000 - val_loss: 0.0320\n"
     ]
    },
    {
     "data": {
      "text/plain": [
       "<keras.src.callbacks.history.History at 0x2f2dbc920>"
      ]
     },
     "execution_count": 12,
     "metadata": {},
     "output_type": "execute_result"
    }
   ],
   "source": [
    "early_stop = tf.keras.callbacks.EarlyStopping(\n",
    "    monitor=\"val_loss\",\n",
    "    patience=10,\n",
    "    restore_best_weights=True,\n",
    ")\n",
    "\n",
    "clf.fit(\n",
    "    x_train_orig,\n",
    "    y_train_orig,\n",
    "    epochs=10,\n",
    "    batch_size=250,\n",
    "    validation_split=0.2,\n",
    "    callbacks=[early_stop]\n",
    ")"
   ]
  },
  {
   "cell_type": "code",
   "execution_count": 13,
   "id": "c2399890",
   "metadata": {},
   "outputs": [
    {
     "name": "stdout",
     "output_type": "stream",
     "text": [
      "\u001b[1m  1/111\u001b[0m \u001b[37m━━━━━━━━━━━━━━━━━━━━\u001b[0m \u001b[1m1s\u001b[0m 17ms/step - AUC: 1.0000 - Accuracy: 1.0000 - Precision: 1.0000 - Recall: 1.0000 - loss: 0.0147"
     ]
    },
    {
     "name": "stdout",
     "output_type": "stream",
     "text": [
      "\u001b[1m111/111\u001b[0m \u001b[32m━━━━━━━━━━━━━━━━━━━━\u001b[0m\u001b[37m\u001b[0m \u001b[1m1s\u001b[0m 7ms/step - AUC: 1.0000 - Accuracy: 0.9997 - Precision: 0.9993 - Recall: 1.0000 - loss: 0.0155\n"
     ]
    },
    {
     "data": {
      "text/plain": [
       "[0.016808347776532173,\n",
       " 0.9999688863754272,\n",
       " 0.9994344115257263,\n",
       " 0.9988795518875122,\n",
       " 1.0]"
      ]
     },
     "execution_count": 13,
     "metadata": {},
     "output_type": "execute_result"
    }
   ],
   "source": [
    "clf.evaluate(x_test_orig,y_test_orig)"
   ]
  },
  {
   "cell_type": "code",
   "execution_count": 15,
   "id": "7ab17c56",
   "metadata": {},
   "outputs": [
    {
     "name": "stdout",
     "output_type": "stream",
     "text": [
      "\u001b[1m111/111\u001b[0m \u001b[32m━━━━━━━━━━━━━━━━━━━━\u001b[0m\u001b[37m\u001b[0m \u001b[1m1s\u001b[0m 5ms/step\n"
     ]
    },
    {
     "data": {
      "text/plain": [
       "2"
      ]
     },
     "execution_count": 15,
     "metadata": {},
     "output_type": "execute_result"
    }
   ],
   "source": [
    "preds = clf.predict(x_test_orig)\n",
    "binary_predictions = [1 if pred>0.5 else 0 for pred in preds]\n",
    "(binary_predictions!=y_test_orig).sum()"
   ]
  },
  {
   "cell_type": "markdown",
   "id": "19ee923a",
   "metadata": {},
   "source": [
    "Now, try the more difficult thing where you \"mislabel\" the charm quarks as up quarks"
   ]
  },
  {
   "cell_type": "code",
   "execution_count": 16,
   "id": "f2d6e09f",
   "metadata": {},
   "outputs": [
    {
     "name": "stdout",
     "output_type": "stream",
     "text": [
      "Epoch 1/50\n",
      "\u001b[1m46/46\u001b[0m \u001b[32m━━━━━━━━━━━━━━━━━━━━\u001b[0m\u001b[37m\u001b[0m \u001b[1m8s\u001b[0m 104ms/step - AUC: 0.5940 - Accuracy: 0.5692 - Precision: 0.5677 - Recall: 0.5212 - loss: 1.0043 - val_AUC: 0.9352 - val_Accuracy: 0.9208 - val_Precision: 0.8681 - val_Recall: 0.9922 - val_loss: 0.3280\n",
      "Epoch 2/50\n",
      "\u001b[1m46/46\u001b[0m \u001b[32m━━━━━━━━━━━━━━━━━━━━\u001b[0m\u001b[37m\u001b[0m \u001b[1m4s\u001b[0m 91ms/step - AUC: 0.9231 - Accuracy: 0.8855 - Precision: 0.8294 - Recall: 0.9656 - loss: 0.3771 - val_AUC: 0.9414 - val_Accuracy: 0.9144 - val_Precision: 0.8703 - val_Recall: 0.9738 - val_loss: 0.3017\n",
      "Epoch 3/50\n",
      "\u001b[1m46/46\u001b[0m \u001b[32m━━━━━━━━━━━━━━━━━━━━\u001b[0m\u001b[37m\u001b[0m \u001b[1m5s\u001b[0m 107ms/step - AUC: 0.9276 - Accuracy: 0.9055 - Precision: 0.8537 - Recall: 0.9748 - loss: 0.3243 - val_AUC: 0.9435 - val_Accuracy: 0.9211 - val_Precision: 0.8677 - val_Recall: 0.9936 - val_loss: 0.2720\n",
      "Epoch 4/50\n",
      "\u001b[1m46/46\u001b[0m \u001b[32m━━━━━━━━━━━━━━━━━━━━\u001b[0m\u001b[37m\u001b[0m \u001b[1m5s\u001b[0m 112ms/step - AUC: 0.9298 - Accuracy: 0.9071 - Precision: 0.8508 - Recall: 0.9844 - loss: 0.3096 - val_AUC: 0.9466 - val_Accuracy: 0.9201 - val_Precision: 0.8689 - val_Recall: 0.9894 - val_loss: 0.2625\n",
      "Epoch 5/50\n",
      "\u001b[1m46/46\u001b[0m \u001b[32m━━━━━━━━━━━━━━━━━━━━\u001b[0m\u001b[37m\u001b[0m \u001b[1m5s\u001b[0m 112ms/step - AUC: 0.9297 - Accuracy: 0.9131 - Precision: 0.8605 - Recall: 0.9859 - loss: 0.2945 - val_AUC: 0.9509 - val_Accuracy: 0.9261 - val_Precision: 0.8725 - val_Recall: 0.9979 - val_loss: 0.2493\n",
      "Epoch 6/50\n",
      "\u001b[1m46/46\u001b[0m \u001b[32m━━━━━━━━━━━━━━━━━━━━\u001b[0m\u001b[37m\u001b[0m \u001b[1m5s\u001b[0m 112ms/step - AUC: 0.9382 - Accuracy: 0.9204 - Precision: 0.8691 - Recall: 0.9900 - loss: 0.2699 - val_AUC: 0.9527 - val_Accuracy: 0.9257 - val_Precision: 0.8781 - val_Recall: 0.9887 - val_loss: 0.2523\n",
      "Epoch 7/50\n",
      "\u001b[1m46/46\u001b[0m \u001b[32m━━━━━━━━━━━━━━━━━━━━\u001b[0m\u001b[37m\u001b[0m \u001b[1m5s\u001b[0m 112ms/step - AUC: 0.9425 - Accuracy: 0.9242 - Precision: 0.8732 - Recall: 0.9926 - loss: 0.2575 - val_AUC: 0.9530 - val_Accuracy: 0.9307 - val_Precision: 0.8787 - val_Recall: 0.9993 - val_loss: 0.2448\n",
      "Epoch 8/50\n",
      "\u001b[1m46/46\u001b[0m \u001b[32m━━━━━━━━━━━━━━━━━━━━\u001b[0m\u001b[37m\u001b[0m \u001b[1m5s\u001b[0m 116ms/step - AUC: 0.9415 - Accuracy: 0.9235 - Precision: 0.8712 - Recall: 0.9933 - loss: 0.2564 - val_AUC: 0.9538 - val_Accuracy: 0.9307 - val_Precision: 0.8787 - val_Recall: 0.9993 - val_loss: 0.2293\n",
      "Epoch 9/50\n",
      "\u001b[1m46/46\u001b[0m \u001b[32m━━━━━━━━━━━━━━━━━━━━\u001b[0m\u001b[37m\u001b[0m \u001b[1m5s\u001b[0m 112ms/step - AUC: 0.9433 - Accuracy: 0.9234 - Precision: 0.8697 - Recall: 0.9925 - loss: 0.2493 - val_AUC: 0.9545 - val_Accuracy: 0.9307 - val_Precision: 0.8782 - val_Recall: 1.0000 - val_loss: 0.2299\n",
      "Epoch 10/50\n",
      "\u001b[1m46/46\u001b[0m \u001b[32m━━━━━━━━━━━━━━━━━━━━\u001b[0m\u001b[37m\u001b[0m \u001b[1m5s\u001b[0m 111ms/step - AUC: 0.9458 - Accuracy: 0.9274 - Precision: 0.8757 - Recall: 0.9961 - loss: 0.2414 - val_AUC: 0.9554 - val_Accuracy: 0.9264 - val_Precision: 0.8782 - val_Recall: 0.9901 - val_loss: 0.2387\n"
     ]
    },
    {
     "data": {
      "text/plain": [
       "<keras.src.callbacks.history.History at 0x3408bf350>"
      ]
     },
     "execution_count": 16,
     "metadata": {},
     "output_type": "execute_result"
    }
   ],
   "source": [
    "del clf\n",
    "clf = get_clf(dropout=0.2,shape=x_train_light.shape[1:])\n",
    "clf.compile(optimizer=\"adam\", loss=loss_fn, metrics=[\"Accuracy\", \"AUC\", \"Precision\", \"Recall\"])\n",
    "\n",
    "clf.fit(\n",
    "    x_train_light,\n",
    "    y_train_light,\n",
    "    epochs=50,\n",
    "    batch_size=250,\n",
    "    validation_split=0.2,\n",
    "    callbacks=[early_stop],\n",
    ")"
   ]
  },
  {
   "cell_type": "code",
   "execution_count": 17,
   "id": "fe42421d",
   "metadata": {},
   "outputs": [
    {
     "name": "stdout",
     "output_type": "stream",
     "text": [
      "\u001b[1m111/111\u001b[0m \u001b[32m━━━━━━━━━━━━━━━━━━━━\u001b[0m\u001b[37m\u001b[0m \u001b[1m1s\u001b[0m 5ms/step - AUC: 0.9443 - Accuracy: 0.9298 - Precision: 0.8793 - Recall: 0.9940 - loss: 0.2710\n"
     ]
    },
    {
     "data": {
      "text/plain": [
       "[0.28185391426086426,\n",
       " 0.9392687082290649,\n",
       " 0.9244909286499023,\n",
       " 0.8759920597076416,\n",
       " 0.990465521812439]"
      ]
     },
     "execution_count": 17,
     "metadata": {},
     "output_type": "execute_result"
    }
   ],
   "source": [
    "clf.evaluate(x_test_light,y_test_light)"
   ]
  },
  {
   "cell_type": "code",
   "execution_count": 18,
   "id": "49137813",
   "metadata": {},
   "outputs": [
    {
     "name": "stdout",
     "output_type": "stream",
     "text": [
      "\u001b[1m111/111\u001b[0m \u001b[32m━━━━━━━━━━━━━━━━━━━━\u001b[0m\u001b[37m\u001b[0m \u001b[1m1s\u001b[0m 6ms/step\n"
     ]
    },
    {
     "data": {
      "text/plain": [
       "267"
      ]
     },
     "execution_count": 18,
     "metadata": {},
     "output_type": "execute_result"
    }
   ],
   "source": [
    "preds = clf.predict(x_test_light)\n",
    "binary_predictions = [1 if pred>0.5 else 0 for pred in preds]\n",
    "(binary_predictions!=y_test_light).sum()"
   ]
  },
  {
   "cell_type": "code",
   "execution_count": 19,
   "id": "7f683abf",
   "metadata": {},
   "outputs": [
    {
     "name": "stdout",
     "output_type": "stream",
     "text": [
      "Epoch 1/50\n",
      "\u001b[1m46/46\u001b[0m \u001b[32m━━━━━━━━━━━━━━━━━━━━\u001b[0m\u001b[37m\u001b[0m \u001b[1m8s\u001b[0m 101ms/step - AUC: 0.5190 - Accuracy: 0.5158 - Precision: 0.5001 - Recall: 0.4562 - loss: 0.8567 - val_AUC: 0.5687 - val_Accuracy: 0.5435 - val_Precision: 0.5377 - val_Recall: 0.6164 - val_loss: 0.6968\n",
      "Epoch 2/50\n",
      "\u001b[1m46/46\u001b[0m \u001b[32m━━━━━━━━━━━━━━━━━━━━\u001b[0m\u001b[37m\u001b[0m \u001b[1m4s\u001b[0m 90ms/step - AUC: 0.5670 - Accuracy: 0.5510 - Precision: 0.5370 - Recall: 0.5978 - loss: 0.6975 - val_AUC: 0.6309 - val_Accuracy: 0.5937 - val_Precision: 0.5714 - val_Recall: 0.7481 - val_loss: 0.6698\n",
      "Epoch 3/50\n",
      "\u001b[1m46/46\u001b[0m \u001b[32m━━━━━━━━━━━━━━━━━━━━\u001b[0m\u001b[37m\u001b[0m \u001b[1m5s\u001b[0m 108ms/step - AUC: 0.6173 - Accuracy: 0.5875 - Precision: 0.5643 - Recall: 0.7312 - loss: 0.6815 - val_AUC: 0.6793 - val_Accuracy: 0.6195 - val_Precision: 0.6152 - val_Recall: 0.6369 - val_loss: 0.6443\n",
      "Epoch 4/50\n",
      "\u001b[1m46/46\u001b[0m \u001b[32m━━━━━━━━━━━━━━━━━━━━\u001b[0m\u001b[37m\u001b[0m \u001b[1m5s\u001b[0m 114ms/step - AUC: 0.6632 - Accuracy: 0.6089 - Precision: 0.5901 - Recall: 0.6581 - loss: 0.6609 - val_AUC: 0.6911 - val_Accuracy: 0.6266 - val_Precision: 0.5925 - val_Recall: 0.8089 - val_loss: 0.6351\n",
      "Epoch 5/50\n",
      "\u001b[1m46/46\u001b[0m \u001b[32m━━━━━━━━━━━━━━━━━━━━\u001b[0m\u001b[37m\u001b[0m \u001b[1m5s\u001b[0m 111ms/step - AUC: 0.6897 - Accuracy: 0.6407 - Precision: 0.6145 - Recall: 0.7404 - loss: 0.6459 - val_AUC: 0.6989 - val_Accuracy: 0.6269 - val_Precision: 0.6137 - val_Recall: 0.6837 - val_loss: 0.6345\n",
      "Epoch 6/50\n",
      "\u001b[1m46/46\u001b[0m \u001b[32m━━━━━━━━━━━━━━━━━━━━\u001b[0m\u001b[37m\u001b[0m \u001b[1m5s\u001b[0m 110ms/step - AUC: 0.6963 - Accuracy: 0.6387 - Precision: 0.6159 - Recall: 0.7232 - loss: 0.6410 - val_AUC: 0.7008 - val_Accuracy: 0.6351 - val_Precision: 0.6060 - val_Recall: 0.7707 - val_loss: 0.6294\n",
      "Epoch 7/50\n",
      "\u001b[1m46/46\u001b[0m \u001b[32m━━━━━━━━━━━━━━━━━━━━\u001b[0m\u001b[37m\u001b[0m \u001b[1m5s\u001b[0m 111ms/step - AUC: 0.7013 - Accuracy: 0.6422 - Precision: 0.6141 - Recall: 0.7602 - loss: 0.6430 - val_AUC: 0.7065 - val_Accuracy: 0.6337 - val_Precision: 0.6088 - val_Recall: 0.7466 - val_loss: 0.6261\n",
      "Epoch 8/50\n",
      "\u001b[1m46/46\u001b[0m \u001b[32m━━━━━━━━━━━━━━━━━━━━\u001b[0m\u001b[37m\u001b[0m \u001b[1m5s\u001b[0m 108ms/step - AUC: 0.6975 - Accuracy: 0.6395 - Precision: 0.6141 - Recall: 0.7489 - loss: 0.6382 - val_AUC: 0.7102 - val_Accuracy: 0.6414 - val_Precision: 0.6086 - val_Recall: 0.7912 - val_loss: 0.6231\n",
      "Epoch 9/50\n",
      "\u001b[1m46/46\u001b[0m \u001b[32m━━━━━━━━━━━━━━━━━━━━\u001b[0m\u001b[37m\u001b[0m \u001b[1m5s\u001b[0m 112ms/step - AUC: 0.7171 - Accuracy: 0.6501 - Precision: 0.6262 - Recall: 0.7345 - loss: 0.6266 - val_AUC: 0.7129 - val_Accuracy: 0.6390 - val_Precision: 0.6361 - val_Recall: 0.6483 - val_loss: 0.6232\n",
      "Epoch 10/50\n",
      "\u001b[1m46/46\u001b[0m \u001b[32m━━━━━━━━━━━━━━━━━━━━\u001b[0m\u001b[37m\u001b[0m \u001b[1m5s\u001b[0m 112ms/step - AUC: 0.7233 - Accuracy: 0.6619 - Precision: 0.6412 - Recall: 0.7207 - loss: 0.6215 - val_AUC: 0.7194 - val_Accuracy: 0.6372 - val_Precision: 0.6065 - val_Recall: 0.7799 - val_loss: 0.6236\n"
     ]
    },
    {
     "data": {
      "text/plain": [
       "<keras.src.callbacks.history.History at 0x3612ab7a0>"
      ]
     },
     "execution_count": 19,
     "metadata": {},
     "output_type": "execute_result"
    }
   ],
   "source": [
    "del clf\n",
    "clf = get_clf(dropout=0.2,shape=x_train_gluon.shape[1:])\n",
    "clf.compile(optimizer=\"adam\", loss=loss_fn, metrics=[\"Accuracy\", \"AUC\", \"Precision\", \"Recall\"])\n",
    "\n",
    "clf.fit(\n",
    "    x_train_gluon,\n",
    "    y_train_gluon,\n",
    "    epochs=50,\n",
    "    batch_size=250,\n",
    "    validation_split=0.2,\n",
    "    callbacks=[early_stop],\n",
    ")"
   ]
  },
  {
   "cell_type": "markdown",
   "id": "fe5c0167",
   "metadata": {},
   "source": [
    "### Now take a look at boosted decision trees"
   ]
  },
  {
   "cell_type": "markdown",
   "id": "d09a8f81",
   "metadata": {},
   "source": [
    "For now, try the boosted decision tree where the features are the pt of all particles"
   ]
  },
  {
   "cell_type": "code",
   "execution_count": 28,
   "id": "1110fe1a",
   "metadata": {},
   "outputs": [],
   "source": [
    "train_shape = x_train_orig.shape\n",
    "test_shape = x_test_orig.shape\n",
    "x_train_0_bdt = np.reshape( x_train_orig,(train_shape[0],train_shape[1]*train_shape[4]) )\n",
    "x_test_0_bdt = np.reshape( x_test_orig,(test_shape[0],test_shape[1]*test_shape[4]) )"
   ]
  },
  {
   "cell_type": "code",
   "execution_count": 31,
   "id": "2ef77887",
   "metadata": {},
   "outputs": [],
   "source": [
    "from xgboost import XGBClassifier\n",
    "\n",
    "# create model instance\n",
    "bst = XGBClassifier(objective='binary:logistic', learning_rate = 0.1,\n",
    "              max_depth = 15, n_estimators = 50)\n",
    "# fit model\n",
    "bst.fit(x_train_0_bdt, y_train_orig)\n",
    "# make predictions\n",
    "preds = bst.predict(x_test_0_bdt)"
   ]
  },
  {
   "cell_type": "code",
   "execution_count": 33,
   "id": "bb46f707",
   "metadata": {},
   "outputs": [
    {
     "data": {
      "text/plain": [
       "1774"
      ]
     },
     "execution_count": 33,
     "metadata": {},
     "output_type": "execute_result"
    }
   ],
   "source": [
    "((y_test_orig==1) & (preds==1)).sum()"
   ]
  },
  {
   "cell_type": "code",
   "execution_count": 34,
   "id": "5479bbac",
   "metadata": {},
   "outputs": [
    {
     "data": {
      "text/plain": [
       "1725"
      ]
     },
     "execution_count": 34,
     "metadata": {},
     "output_type": "execute_result"
    }
   ],
   "source": [
    "((y_test_orig==0) & (preds==0)).sum()"
   ]
  },
  {
   "cell_type": "code",
   "execution_count": 37,
   "id": "3081d8a1",
   "metadata": {},
   "outputs": [
    {
     "data": {
      "text/plain": [
       "0.9895361990950227"
      ]
     },
     "execution_count": 37,
     "metadata": {},
     "output_type": "execute_result"
    }
   ],
   "source": [
    "(y_test_orig==preds).sum() / len(y_test_orig)"
   ]
  }
 ],
 "metadata": {
  "kernelspec": {
   "display_name": "Python 3 (ipykernel)",
   "language": "python",
   "name": "python3"
  },
  "language_info": {
   "codemirror_mode": {
    "name": "ipython",
    "version": 3
   },
   "file_extension": ".py",
   "mimetype": "text/x-python",
   "name": "python",
   "nbconvert_exporter": "python",
   "pygments_lexer": "ipython3",
   "version": "3.12.2"
  }
 },
 "nbformat": 4,
 "nbformat_minor": 5
}
